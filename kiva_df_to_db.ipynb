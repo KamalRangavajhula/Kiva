{
 "cells": [
  {
   "cell_type": "markdown",
   "metadata": {},
   "source": [
    "The purpose of this notebook is to maintain the kiva module that provides a complete and cleaner data set. This will allow the team to streamline the call to our database to run our analysis.   "
   ]
  },
  {
   "cell_type": "code",
   "execution_count": 1,
   "metadata": {},
   "outputs": [],
   "source": [
    "from sqlalchemy import create_engine\n",
    "import pandas as pd\n",
    "import numpy as np\n",
    "from config import dbconfig"
   ]
  },
  {
   "cell_type": "code",
   "execution_count": 2,
   "metadata": {},
   "outputs": [],
   "source": [
    "engine = create_engine(dbconfig.aws_connection_string)"
   ]
  },
  {
   "cell_type": "code",
   "execution_count": 3,
   "metadata": {},
   "outputs": [],
   "source": [
    "#creating full_loans data set from database\n",
    "days = pd.read_sql_query(\"SELECT * FROM loan_dates\", engine)\n",
    "loans = pd.read_sql_query(\"SELECT * FROM loans\", engine)\n",
    "partners = pd.read_sql_query(\"SELECT * FROM partners\", engine)\n",
    "loans_days = pd.merge(loans, days, how = 'left', on = 'loan_id')\n",
    "partners = partners.rename(columns = {\"id\": \"partner_id\"})\n",
    "full_loans = pd.merge(loans_days, partners, how = \"left\", on = \"partner_id\", suffixes=(\"_loans\", \"_partners\"))"
   ]
  },
  {
   "cell_type": "code",
   "execution_count": 4,
   "metadata": {},
   "outputs": [
    {
     "name": "stderr",
     "output_type": "stream",
     "text": [
      "/Users/yavah/anaconda3/lib/python3.6/site-packages/ipykernel_launcher.py:5: SettingWithCopyWarning: \n",
      "A value is trying to be set on a copy of a slice from a DataFrame.\n",
      "Try using .loc[row_indexer,col_indexer] = value instead\n",
      "\n",
      "See the caveats in the documentation: http://pandas.pydata.org/pandas-docs/stable/indexing.html#indexing-view-versus-copy\n",
      "  \"\"\"\n"
     ]
    }
   ],
   "source": [
    "# creating a subset only with field partner loans\n",
    "fl_subset = full_loans[full_loans.distribution_model == \"field_partner\"]\n",
    "\n",
    "#creating a new binary variable that is 0 if the loan was successfully funded and 1 otherwise\n",
    "fl_subset[\"status_loans_bi\"] = np.where(fl_subset[\"status_loans\"] == \"funded\", 0, 1)\n",
    "\n",
    "#Cleaning data set to select only funded loans and get rid of negative values in posted_to_raised_days\n",
    "fl_subset_cl = fl_subset[fl_subset.status_loans_bi == 0]\n",
    "fl_subset_cl = fl_subset_cl[fl_subset_cl.posted_to_raised_days >= 0]"
   ]
  },
  {
   "cell_type": "code",
   "execution_count": 5,
   "metadata": {},
   "outputs": [],
   "source": [
    "#fixing the format of the dates columns\n",
    "fl_subset_cl['posted_time_actual'] = fl_subset_cl['posted_time_actual'].astype('int64')\n",
    "fl_subset_cl['disburse_time_actual'] = fl_subset_cl['disburse_time_actual'].astype('int64')\n",
    "fl_subset_cl['raised_time_actual'] = fl_subset_cl['raised_time_actual'].astype('int64')"
   ]
  },
  {
   "cell_type": "code",
   "execution_count": 8,
   "metadata": {},
   "outputs": [],
   "source": [
    "#Saving table to database\n",
    "fl_subset_cl.to_sql('kiva_data_flat', engine, if_exists='replace', chunksize = 10000)"
   ]
  },
  {
   "cell_type": "code",
   "execution_count": 14,
   "metadata": {},
   "outputs": [
    {
     "name": "stdout",
     "output_type": "stream",
     "text": [
      "['partners', 'loan_dates', 'd_date', 'lenders', 'loans', 'loans_lenders', 'kiva_data_flat']\n"
     ]
    }
   ],
   "source": [
    "print(engine.table_names())"
   ]
  }
 ],
 "metadata": {
  "kernelspec": {
   "display_name": "Python 3",
   "language": "python",
   "name": "python3"
  },
  "language_info": {
   "codemirror_mode": {
    "name": "ipython",
    "version": 3
   },
   "file_extension": ".py",
   "mimetype": "text/x-python",
   "name": "python",
   "nbconvert_exporter": "python",
   "pygments_lexer": "ipython3",
   "version": "3.6.5"
  }
 },
 "nbformat": 4,
 "nbformat_minor": 2
}
