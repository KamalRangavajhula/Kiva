{
 "cells": [
  {
   "cell_type": "code",
   "execution_count": 187,
   "metadata": {},
   "outputs": [],
   "source": [
    "import pandas as pd\n",
    "import numpy as np\n",
    "import matplotlib.pyplot as plt\n",
    "%matplotlib inline\n",
    "import seaborn as sns\n",
    "sns.set_style(\"whitegrid\")\n",
    "from time import time"
   ]
  },
  {
   "cell_type": "code",
   "execution_count": 188,
   "metadata": {},
   "outputs": [],
   "source": [
    "import warnings\n",
    "warnings.filterwarnings('ignore')"
   ]
  },
  {
   "cell_type": "code",
   "execution_count": 189,
   "metadata": {},
   "outputs": [],
   "source": [
    "import sys, os\n",
    "sys.path.insert(0, os.path.abspath('..'))"
   ]
  },
  {
   "cell_type": "code",
   "execution_count": 190,
   "metadata": {},
   "outputs": [
    {
     "name": "stdout",
     "output_type": "stream",
     "text": [
      "Connected to kivateam.cnd5idfvxmld.us-east-1.rds.amazonaws.com:5432/kiva\n",
      "The process takes about 5 minutes to run.\n"
     ]
    }
   ],
   "source": [
    "from Ingestion.kivadataloader import KivaDataLoader\n",
    "m=KivaDataLoader()\n",
    "cleaneduploans=m.get_clean_dataframe()"
   ]
  },
  {
   "cell_type": "code",
   "execution_count": 191,
   "metadata": {},
   "outputs": [
    {
     "data": {
      "text/plain": [
       "(1177384, 26)"
      ]
     },
     "execution_count": 191,
     "metadata": {},
     "output_type": "execute_result"
    }
   ],
   "source": [
    "cleaneduploans.shape"
   ]
  },
  {
   "cell_type": "code",
   "execution_count": 192,
   "metadata": {},
   "outputs": [
    {
     "data": {
      "text/html": [
       "<div>\n",
       "<style scoped>\n",
       "    .dataframe tbody tr th:only-of-type {\n",
       "        vertical-align: middle;\n",
       "    }\n",
       "\n",
       "    .dataframe tbody tr th {\n",
       "        vertical-align: top;\n",
       "    }\n",
       "\n",
       "    .dataframe thead th {\n",
       "        text-align: right;\n",
       "    }\n",
       "</style>\n",
       "<table border=\"1\" class=\"dataframe\">\n",
       "  <thead>\n",
       "    <tr style=\"text-align: right;\">\n",
       "      <th></th>\n",
       "      <th>language_english</th>\n",
       "      <th>description_length</th>\n",
       "      <th>loan_amount</th>\n",
       "      <th>loan_use_length</th>\n",
       "      <th>currency_usd</th>\n",
       "      <th>tags_exist</th>\n",
       "      <th>num_borrowers_female_pct</th>\n",
       "      <th>sector_name_Agriculture</th>\n",
       "      <th>sector_name_Arts</th>\n",
       "      <th>sector_name_Clothing</th>\n",
       "      <th>...</th>\n",
       "      <th>sector_name_Personal Use</th>\n",
       "      <th>sector_name_Retail</th>\n",
       "      <th>sector_name_Services</th>\n",
       "      <th>sector_name_Transportation</th>\n",
       "      <th>sector_name_Wholesale</th>\n",
       "      <th>distribution_model_field_partner</th>\n",
       "      <th>fol</th>\n",
       "      <th>repayment_interval_bullet</th>\n",
       "      <th>repayment_interval_irregular</th>\n",
       "      <th>repayment_interval_weekly</th>\n",
       "    </tr>\n",
       "  </thead>\n",
       "  <tbody>\n",
       "    <tr>\n",
       "      <th>0</th>\n",
       "      <td>1</td>\n",
       "      <td>539.0</td>\n",
       "      <td>1000.0</td>\n",
       "      <td>41.0</td>\n",
       "      <td>1</td>\n",
       "      <td>0</td>\n",
       "      <td>1.0</td>\n",
       "      <td>0</td>\n",
       "      <td>0</td>\n",
       "      <td>0</td>\n",
       "      <td>...</td>\n",
       "      <td>1</td>\n",
       "      <td>0</td>\n",
       "      <td>0</td>\n",
       "      <td>0</td>\n",
       "      <td>0</td>\n",
       "      <td>1</td>\n",
       "      <td>1</td>\n",
       "      <td>0</td>\n",
       "      <td>0</td>\n",
       "      <td>0</td>\n",
       "    </tr>\n",
       "    <tr>\n",
       "      <th>1</th>\n",
       "      <td>0</td>\n",
       "      <td>858.0</td>\n",
       "      <td>300.0</td>\n",
       "      <td>37.0</td>\n",
       "      <td>0</td>\n",
       "      <td>0</td>\n",
       "      <td>1.0</td>\n",
       "      <td>0</td>\n",
       "      <td>0</td>\n",
       "      <td>0</td>\n",
       "      <td>...</td>\n",
       "      <td>0</td>\n",
       "      <td>0</td>\n",
       "      <td>1</td>\n",
       "      <td>0</td>\n",
       "      <td>0</td>\n",
       "      <td>1</td>\n",
       "      <td>0</td>\n",
       "      <td>0</td>\n",
       "      <td>0</td>\n",
       "      <td>0</td>\n",
       "    </tr>\n",
       "    <tr>\n",
       "      <th>2</th>\n",
       "      <td>1</td>\n",
       "      <td>875.0</td>\n",
       "      <td>125.0</td>\n",
       "      <td>86.0</td>\n",
       "      <td>0</td>\n",
       "      <td>0</td>\n",
       "      <td>1.0</td>\n",
       "      <td>0</td>\n",
       "      <td>0</td>\n",
       "      <td>0</td>\n",
       "      <td>...</td>\n",
       "      <td>0</td>\n",
       "      <td>0</td>\n",
       "      <td>0</td>\n",
       "      <td>0</td>\n",
       "      <td>0</td>\n",
       "      <td>1</td>\n",
       "      <td>0</td>\n",
       "      <td>0</td>\n",
       "      <td>0</td>\n",
       "      <td>0</td>\n",
       "    </tr>\n",
       "    <tr>\n",
       "      <th>3</th>\n",
       "      <td>1</td>\n",
       "      <td>706.0</td>\n",
       "      <td>1025.0</td>\n",
       "      <td>22.0</td>\n",
       "      <td>0</td>\n",
       "      <td>1</td>\n",
       "      <td>1.0</td>\n",
       "      <td>1</td>\n",
       "      <td>0</td>\n",
       "      <td>0</td>\n",
       "      <td>...</td>\n",
       "      <td>0</td>\n",
       "      <td>0</td>\n",
       "      <td>0</td>\n",
       "      <td>0</td>\n",
       "      <td>0</td>\n",
       "      <td>1</td>\n",
       "      <td>0</td>\n",
       "      <td>0</td>\n",
       "      <td>0</td>\n",
       "      <td>0</td>\n",
       "    </tr>\n",
       "    <tr>\n",
       "      <th>4</th>\n",
       "      <td>0</td>\n",
       "      <td>680.0</td>\n",
       "      <td>1750.0</td>\n",
       "      <td>15.0</td>\n",
       "      <td>0</td>\n",
       "      <td>0</td>\n",
       "      <td>1.0</td>\n",
       "      <td>0</td>\n",
       "      <td>0</td>\n",
       "      <td>0</td>\n",
       "      <td>...</td>\n",
       "      <td>0</td>\n",
       "      <td>1</td>\n",
       "      <td>0</td>\n",
       "      <td>0</td>\n",
       "      <td>0</td>\n",
       "      <td>1</td>\n",
       "      <td>1</td>\n",
       "      <td>1</td>\n",
       "      <td>0</td>\n",
       "      <td>0</td>\n",
       "    </tr>\n",
       "  </tbody>\n",
       "</table>\n",
       "<p>5 rows × 26 columns</p>\n",
       "</div>"
      ],
      "text/plain": [
       "   language_english  description_length  loan_amount  loan_use_length  \\\n",
       "0                 1               539.0       1000.0             41.0   \n",
       "1                 0               858.0        300.0             37.0   \n",
       "2                 1               875.0        125.0             86.0   \n",
       "3                 1               706.0       1025.0             22.0   \n",
       "4                 0               680.0       1750.0             15.0   \n",
       "\n",
       "   currency_usd  tags_exist  num_borrowers_female_pct  \\\n",
       "0             1           0                       1.0   \n",
       "1             0           0                       1.0   \n",
       "2             0           0                       1.0   \n",
       "3             0           1                       1.0   \n",
       "4             0           0                       1.0   \n",
       "\n",
       "   sector_name_Agriculture  sector_name_Arts  sector_name_Clothing  \\\n",
       "0                        0                 0                     0   \n",
       "1                        0                 0                     0   \n",
       "2                        0                 0                     0   \n",
       "3                        1                 0                     0   \n",
       "4                        0                 0                     0   \n",
       "\n",
       "             ...              sector_name_Personal Use  sector_name_Retail  \\\n",
       "0            ...                                     1                   0   \n",
       "1            ...                                     0                   0   \n",
       "2            ...                                     0                   0   \n",
       "3            ...                                     0                   0   \n",
       "4            ...                                     0                   1   \n",
       "\n",
       "   sector_name_Services  sector_name_Transportation  sector_name_Wholesale  \\\n",
       "0                     0                           0                      0   \n",
       "1                     1                           0                      0   \n",
       "2                     0                           0                      0   \n",
       "3                     0                           0                      0   \n",
       "4                     0                           0                      0   \n",
       "\n",
       "   distribution_model_field_partner  fol  repayment_interval_bullet  \\\n",
       "0                                 1    1                          0   \n",
       "1                                 1    0                          0   \n",
       "2                                 1    0                          0   \n",
       "3                                 1    0                          0   \n",
       "4                                 1    1                          1   \n",
       "\n",
       "   repayment_interval_irregular  repayment_interval_weekly  \n",
       "0                             0                          0  \n",
       "1                             0                          0  \n",
       "2                             0                          0  \n",
       "3                             0                          0  \n",
       "4                             0                          0  \n",
       "\n",
       "[5 rows x 26 columns]"
      ]
     },
     "execution_count": 192,
     "metadata": {},
     "output_type": "execute_result"
    }
   ],
   "source": [
    "cleaneduploans.head()"
   ]
  },
  {
   "cell_type": "code",
   "execution_count": 193,
   "metadata": {},
   "outputs": [
    {
     "data": {
      "text/html": [
       "<div>\n",
       "<style scoped>\n",
       "    .dataframe tbody tr th:only-of-type {\n",
       "        vertical-align: middle;\n",
       "    }\n",
       "\n",
       "    .dataframe tbody tr th {\n",
       "        vertical-align: top;\n",
       "    }\n",
       "\n",
       "    .dataframe thead th {\n",
       "        text-align: right;\n",
       "    }\n",
       "</style>\n",
       "<table border=\"1\" class=\"dataframe\">\n",
       "  <thead>\n",
       "    <tr style=\"text-align: right;\">\n",
       "      <th></th>\n",
       "      <th>language_english</th>\n",
       "      <th>description_length</th>\n",
       "      <th>loan_amount</th>\n",
       "      <th>loan_use_length</th>\n",
       "      <th>currency_usd</th>\n",
       "      <th>tags_exist</th>\n",
       "      <th>num_borrowers_female_pct</th>\n",
       "      <th>sector_name_Agriculture</th>\n",
       "      <th>sector_name_Arts</th>\n",
       "      <th>sector_name_Clothing</th>\n",
       "      <th>...</th>\n",
       "      <th>sector_name_Personal Use</th>\n",
       "      <th>sector_name_Retail</th>\n",
       "      <th>sector_name_Services</th>\n",
       "      <th>sector_name_Transportation</th>\n",
       "      <th>sector_name_Wholesale</th>\n",
       "      <th>distribution_model_field_partner</th>\n",
       "      <th>fol</th>\n",
       "      <th>repayment_interval_bullet</th>\n",
       "      <th>repayment_interval_irregular</th>\n",
       "      <th>repayment_interval_weekly</th>\n",
       "    </tr>\n",
       "  </thead>\n",
       "  <tbody>\n",
       "    <tr>\n",
       "      <th>count</th>\n",
       "      <td>1.177384e+06</td>\n",
       "      <td>1.177384e+06</td>\n",
       "      <td>1.177384e+06</td>\n",
       "      <td>1.177384e+06</td>\n",
       "      <td>1.177384e+06</td>\n",
       "      <td>1.177384e+06</td>\n",
       "      <td>1.177384e+06</td>\n",
       "      <td>1.177384e+06</td>\n",
       "      <td>1.177384e+06</td>\n",
       "      <td>1.177384e+06</td>\n",
       "      <td>...</td>\n",
       "      <td>1.177384e+06</td>\n",
       "      <td>1.177384e+06</td>\n",
       "      <td>1.177384e+06</td>\n",
       "      <td>1.177384e+06</td>\n",
       "      <td>1.177384e+06</td>\n",
       "      <td>1.177384e+06</td>\n",
       "      <td>1.177384e+06</td>\n",
       "      <td>1.177384e+06</td>\n",
       "      <td>1.177384e+06</td>\n",
       "      <td>1.177384e+06</td>\n",
       "    </tr>\n",
       "    <tr>\n",
       "      <th>mean</th>\n",
       "      <td>6.905045e-01</td>\n",
       "      <td>7.545755e+02</td>\n",
       "      <td>7.579580e+02</td>\n",
       "      <td>5.375018e+01</td>\n",
       "      <td>1.559822e-01</td>\n",
       "      <td>4.059449e-01</td>\n",
       "      <td>7.920015e-01</td>\n",
       "      <td>2.382485e-01</td>\n",
       "      <td>2.239711e-02</td>\n",
       "      <td>5.509757e-02</td>\n",
       "      <td>...</td>\n",
       "      <td>3.827383e-02</td>\n",
       "      <td>2.000214e-01</td>\n",
       "      <td>7.075941e-02</td>\n",
       "      <td>2.567302e-02</td>\n",
       "      <td>1.580623e-03</td>\n",
       "      <td>9.941939e-01</td>\n",
       "      <td>5.354905e-01</td>\n",
       "      <td>6.841948e-02</td>\n",
       "      <td>4.140663e-01</td>\n",
       "      <td>3.541750e-04</td>\n",
       "    </tr>\n",
       "    <tr>\n",
       "      <th>std</th>\n",
       "      <td>4.622858e-01</td>\n",
       "      <td>4.052108e+02</td>\n",
       "      <td>9.964608e+02</td>\n",
       "      <td>2.825520e+01</td>\n",
       "      <td>3.628387e-01</td>\n",
       "      <td>4.910742e-01</td>\n",
       "      <td>3.943464e-01</td>\n",
       "      <td>4.260121e-01</td>\n",
       "      <td>1.479713e-01</td>\n",
       "      <td>2.281707e-01</td>\n",
       "      <td>...</td>\n",
       "      <td>1.918567e-01</td>\n",
       "      <td>4.000162e-01</td>\n",
       "      <td>2.564226e-01</td>\n",
       "      <td>1.581579e-01</td>\n",
       "      <td>3.972563e-02</td>\n",
       "      <td>7.597622e-02</td>\n",
       "      <td>4.987390e-01</td>\n",
       "      <td>2.524645e-01</td>\n",
       "      <td>4.925603e-01</td>\n",
       "      <td>1.881621e-02</td>\n",
       "    </tr>\n",
       "    <tr>\n",
       "      <th>min</th>\n",
       "      <td>0.000000e+00</td>\n",
       "      <td>0.000000e+00</td>\n",
       "      <td>2.500000e+01</td>\n",
       "      <td>0.000000e+00</td>\n",
       "      <td>0.000000e+00</td>\n",
       "      <td>0.000000e+00</td>\n",
       "      <td>0.000000e+00</td>\n",
       "      <td>0.000000e+00</td>\n",
       "      <td>0.000000e+00</td>\n",
       "      <td>0.000000e+00</td>\n",
       "      <td>...</td>\n",
       "      <td>0.000000e+00</td>\n",
       "      <td>0.000000e+00</td>\n",
       "      <td>0.000000e+00</td>\n",
       "      <td>0.000000e+00</td>\n",
       "      <td>0.000000e+00</td>\n",
       "      <td>0.000000e+00</td>\n",
       "      <td>0.000000e+00</td>\n",
       "      <td>0.000000e+00</td>\n",
       "      <td>0.000000e+00</td>\n",
       "      <td>0.000000e+00</td>\n",
       "    </tr>\n",
       "    <tr>\n",
       "      <th>25%</th>\n",
       "      <td>0.000000e+00</td>\n",
       "      <td>4.910000e+02</td>\n",
       "      <td>2.750000e+02</td>\n",
       "      <td>3.400000e+01</td>\n",
       "      <td>0.000000e+00</td>\n",
       "      <td>0.000000e+00</td>\n",
       "      <td>1.000000e+00</td>\n",
       "      <td>0.000000e+00</td>\n",
       "      <td>0.000000e+00</td>\n",
       "      <td>0.000000e+00</td>\n",
       "      <td>...</td>\n",
       "      <td>0.000000e+00</td>\n",
       "      <td>0.000000e+00</td>\n",
       "      <td>0.000000e+00</td>\n",
       "      <td>0.000000e+00</td>\n",
       "      <td>0.000000e+00</td>\n",
       "      <td>1.000000e+00</td>\n",
       "      <td>0.000000e+00</td>\n",
       "      <td>0.000000e+00</td>\n",
       "      <td>0.000000e+00</td>\n",
       "      <td>0.000000e+00</td>\n",
       "    </tr>\n",
       "    <tr>\n",
       "      <th>50%</th>\n",
       "      <td>1.000000e+00</td>\n",
       "      <td>6.450000e+02</td>\n",
       "      <td>4.750000e+02</td>\n",
       "      <td>4.800000e+01</td>\n",
       "      <td>0.000000e+00</td>\n",
       "      <td>0.000000e+00</td>\n",
       "      <td>1.000000e+00</td>\n",
       "      <td>0.000000e+00</td>\n",
       "      <td>0.000000e+00</td>\n",
       "      <td>0.000000e+00</td>\n",
       "      <td>...</td>\n",
       "      <td>0.000000e+00</td>\n",
       "      <td>0.000000e+00</td>\n",
       "      <td>0.000000e+00</td>\n",
       "      <td>0.000000e+00</td>\n",
       "      <td>0.000000e+00</td>\n",
       "      <td>1.000000e+00</td>\n",
       "      <td>1.000000e+00</td>\n",
       "      <td>0.000000e+00</td>\n",
       "      <td>0.000000e+00</td>\n",
       "      <td>0.000000e+00</td>\n",
       "    </tr>\n",
       "    <tr>\n",
       "      <th>75%</th>\n",
       "      <td>1.000000e+00</td>\n",
       "      <td>8.930000e+02</td>\n",
       "      <td>9.000000e+02</td>\n",
       "      <td>6.800000e+01</td>\n",
       "      <td>0.000000e+00</td>\n",
       "      <td>1.000000e+00</td>\n",
       "      <td>1.000000e+00</td>\n",
       "      <td>0.000000e+00</td>\n",
       "      <td>0.000000e+00</td>\n",
       "      <td>0.000000e+00</td>\n",
       "      <td>...</td>\n",
       "      <td>0.000000e+00</td>\n",
       "      <td>0.000000e+00</td>\n",
       "      <td>0.000000e+00</td>\n",
       "      <td>0.000000e+00</td>\n",
       "      <td>0.000000e+00</td>\n",
       "      <td>1.000000e+00</td>\n",
       "      <td>1.000000e+00</td>\n",
       "      <td>0.000000e+00</td>\n",
       "      <td>1.000000e+00</td>\n",
       "      <td>0.000000e+00</td>\n",
       "    </tr>\n",
       "    <tr>\n",
       "      <th>max</th>\n",
       "      <td>1.000000e+00</td>\n",
       "      <td>1.161000e+04</td>\n",
       "      <td>1.000000e+05</td>\n",
       "      <td>2.149000e+03</td>\n",
       "      <td>1.000000e+00</td>\n",
       "      <td>1.000000e+00</td>\n",
       "      <td>1.000000e+00</td>\n",
       "      <td>1.000000e+00</td>\n",
       "      <td>1.000000e+00</td>\n",
       "      <td>1.000000e+00</td>\n",
       "      <td>...</td>\n",
       "      <td>1.000000e+00</td>\n",
       "      <td>1.000000e+00</td>\n",
       "      <td>1.000000e+00</td>\n",
       "      <td>1.000000e+00</td>\n",
       "      <td>1.000000e+00</td>\n",
       "      <td>1.000000e+00</td>\n",
       "      <td>1.000000e+00</td>\n",
       "      <td>1.000000e+00</td>\n",
       "      <td>1.000000e+00</td>\n",
       "      <td>1.000000e+00</td>\n",
       "    </tr>\n",
       "  </tbody>\n",
       "</table>\n",
       "<p>8 rows × 26 columns</p>\n",
       "</div>"
      ],
      "text/plain": [
       "       language_english  description_length   loan_amount  loan_use_length  \\\n",
       "count      1.177384e+06        1.177384e+06  1.177384e+06     1.177384e+06   \n",
       "mean       6.905045e-01        7.545755e+02  7.579580e+02     5.375018e+01   \n",
       "std        4.622858e-01        4.052108e+02  9.964608e+02     2.825520e+01   \n",
       "min        0.000000e+00        0.000000e+00  2.500000e+01     0.000000e+00   \n",
       "25%        0.000000e+00        4.910000e+02  2.750000e+02     3.400000e+01   \n",
       "50%        1.000000e+00        6.450000e+02  4.750000e+02     4.800000e+01   \n",
       "75%        1.000000e+00        8.930000e+02  9.000000e+02     6.800000e+01   \n",
       "max        1.000000e+00        1.161000e+04  1.000000e+05     2.149000e+03   \n",
       "\n",
       "       currency_usd    tags_exist  num_borrowers_female_pct  \\\n",
       "count  1.177384e+06  1.177384e+06              1.177384e+06   \n",
       "mean   1.559822e-01  4.059449e-01              7.920015e-01   \n",
       "std    3.628387e-01  4.910742e-01              3.943464e-01   \n",
       "min    0.000000e+00  0.000000e+00              0.000000e+00   \n",
       "25%    0.000000e+00  0.000000e+00              1.000000e+00   \n",
       "50%    0.000000e+00  0.000000e+00              1.000000e+00   \n",
       "75%    0.000000e+00  1.000000e+00              1.000000e+00   \n",
       "max    1.000000e+00  1.000000e+00              1.000000e+00   \n",
       "\n",
       "       sector_name_Agriculture  sector_name_Arts  sector_name_Clothing  \\\n",
       "count             1.177384e+06      1.177384e+06          1.177384e+06   \n",
       "mean              2.382485e-01      2.239711e-02          5.509757e-02   \n",
       "std               4.260121e-01      1.479713e-01          2.281707e-01   \n",
       "min               0.000000e+00      0.000000e+00          0.000000e+00   \n",
       "25%               0.000000e+00      0.000000e+00          0.000000e+00   \n",
       "50%               0.000000e+00      0.000000e+00          0.000000e+00   \n",
       "75%               0.000000e+00      0.000000e+00          0.000000e+00   \n",
       "max               1.000000e+00      1.000000e+00          1.000000e+00   \n",
       "\n",
       "                 ...              sector_name_Personal Use  \\\n",
       "count            ...                          1.177384e+06   \n",
       "mean             ...                          3.827383e-02   \n",
       "std              ...                          1.918567e-01   \n",
       "min              ...                          0.000000e+00   \n",
       "25%              ...                          0.000000e+00   \n",
       "50%              ...                          0.000000e+00   \n",
       "75%              ...                          0.000000e+00   \n",
       "max              ...                          1.000000e+00   \n",
       "\n",
       "       sector_name_Retail  sector_name_Services  sector_name_Transportation  \\\n",
       "count        1.177384e+06          1.177384e+06                1.177384e+06   \n",
       "mean         2.000214e-01          7.075941e-02                2.567302e-02   \n",
       "std          4.000162e-01          2.564226e-01                1.581579e-01   \n",
       "min          0.000000e+00          0.000000e+00                0.000000e+00   \n",
       "25%          0.000000e+00          0.000000e+00                0.000000e+00   \n",
       "50%          0.000000e+00          0.000000e+00                0.000000e+00   \n",
       "75%          0.000000e+00          0.000000e+00                0.000000e+00   \n",
       "max          1.000000e+00          1.000000e+00                1.000000e+00   \n",
       "\n",
       "       sector_name_Wholesale  distribution_model_field_partner           fol  \\\n",
       "count           1.177384e+06                      1.177384e+06  1.177384e+06   \n",
       "mean            1.580623e-03                      9.941939e-01  5.354905e-01   \n",
       "std             3.972563e-02                      7.597622e-02  4.987390e-01   \n",
       "min             0.000000e+00                      0.000000e+00  0.000000e+00   \n",
       "25%             0.000000e+00                      1.000000e+00  0.000000e+00   \n",
       "50%             0.000000e+00                      1.000000e+00  1.000000e+00   \n",
       "75%             0.000000e+00                      1.000000e+00  1.000000e+00   \n",
       "max             1.000000e+00                      1.000000e+00  1.000000e+00   \n",
       "\n",
       "       repayment_interval_bullet  repayment_interval_irregular  \\\n",
       "count               1.177384e+06                  1.177384e+06   \n",
       "mean                6.841948e-02                  4.140663e-01   \n",
       "std                 2.524645e-01                  4.925603e-01   \n",
       "min                 0.000000e+00                  0.000000e+00   \n",
       "25%                 0.000000e+00                  0.000000e+00   \n",
       "50%                 0.000000e+00                  0.000000e+00   \n",
       "75%                 0.000000e+00                  1.000000e+00   \n",
       "max                 1.000000e+00                  1.000000e+00   \n",
       "\n",
       "       repayment_interval_weekly  \n",
       "count               1.177384e+06  \n",
       "mean                3.541750e-04  \n",
       "std                 1.881621e-02  \n",
       "min                 0.000000e+00  \n",
       "25%                 0.000000e+00  \n",
       "50%                 0.000000e+00  \n",
       "75%                 0.000000e+00  \n",
       "max                 1.000000e+00  \n",
       "\n",
       "[8 rows x 26 columns]"
      ]
     },
     "execution_count": 193,
     "metadata": {},
     "output_type": "execute_result"
    }
   ],
   "source": [
    "cleaneduploans.describe()"
   ]
  },
  {
   "cell_type": "markdown",
   "metadata": {},
   "source": [
    "# Target and Features"
   ]
  },
  {
   "cell_type": "code",
   "execution_count": 259,
   "metadata": {},
   "outputs": [],
   "source": [
    "#Target\n",
    "y=cleaneduploans['fol']"
   ]
  },
  {
   "cell_type": "code",
   "execution_count": 195,
   "metadata": {},
   "outputs": [
    {
     "data": {
      "text/plain": [
       "(1177384,)"
      ]
     },
     "execution_count": 195,
     "metadata": {},
     "output_type": "execute_result"
    }
   ],
   "source": [
    "y.shape"
   ]
  },
  {
   "cell_type": "code",
   "execution_count": 196,
   "metadata": {},
   "outputs": [],
   "source": [
    "#Features\n",
    "X=cleaneduploans.drop('fol', axis=1)"
   ]
  },
  {
   "cell_type": "code",
   "execution_count": 197,
   "metadata": {},
   "outputs": [
    {
     "data": {
      "text/plain": [
       "(1177384, 25)"
      ]
     },
     "execution_count": 197,
     "metadata": {},
     "output_type": "execute_result"
    }
   ],
   "source": [
    "X.shape"
   ]
  },
  {
   "cell_type": "code",
   "execution_count": 198,
   "metadata": {},
   "outputs": [
    {
     "name": "stdout",
     "output_type": "stream",
     "text": [
      "no missing values\n"
     ]
    }
   ],
   "source": [
    "for i in X.isnull():\n",
    "    if i == True:\n",
    "        print (i)\n",
    "print('no missing values')"
   ]
  },
  {
   "cell_type": "markdown",
   "metadata": {},
   "source": [
    "# Feauture selection "
   ]
  },
  {
   "cell_type": "code",
   "execution_count": 199,
   "metadata": {},
   "outputs": [
    {
     "data": {
      "image/png": "[encoded data removed]",
      "text/plain": [
       "<Figure size 432x288 with 2 Axes>"
      ]
     },
     "metadata": {},
     "output_type": "display_data"
    }
   ],
   "source": [
    "from yellowbrick.features import Rank2D\n",
    "\n",
    "# Instantiate the visualizer with the Pearson ranking algorithm\n",
    "visualizer = Rank2D(features=X.columns, algorithm='pearson')\n",
    "\n",
    "visualizer.fit(X, y)                # Fit the data to the visualizer\n",
    "visualizer.transform(X)             # Transform the data\n",
    "visualizer.poof()                   # Draw/show/poof the data"
   ]
  },
  {
   "cell_type": "code",
   "execution_count": 200,
   "metadata": {},
   "outputs": [],
   "source": [
    "from sklearn.feature_selection import SelectFromModel\n",
    "from sklearn.linear_model import Ridge, Lasso, ElasticNet"
   ]
  },
  {
   "cell_type": "code",
   "execution_count": 201,
   "metadata": {},
   "outputs": [
    {
     "name": "stdout",
     "output_type": "stream",
     "text": [
      "['description_length', 'loan_amount', 'loan_use_length']\n"
     ]
    }
   ],
   "source": [
    "model = Lasso(alpha=0.5)\n",
    "sfm = SelectFromModel(model)\n",
    "sfm.fit(X, y)\n",
    "print(list(X.iloc[:, sfm.get_support(indices=True)]))"
   ]
  },
  {
   "cell_type": "code",
   "execution_count": 202,
   "metadata": {},
   "outputs": [
    {
     "name": "stdout",
     "output_type": "stream",
     "text": [
      "['tags_exist', 'num_borrowers_female_pct', 'sector_name_Arts', 'sector_name_Education', 'sector_name_Health', 'sector_name_Manufacturing', 'sector_name_Personal Use', 'distribution_model_field_partner']\n"
     ]
    }
   ],
   "source": [
    "model = Ridge(alpha=0.5)\n",
    "sfm = SelectFromModel(model)\n",
    "sfm.fit(X, y)\n",
    "print(list(X.iloc[:, sfm.get_support(indices=True)]))"
   ]
  },
  {
   "cell_type": "code",
   "execution_count": 203,
   "metadata": {},
   "outputs": [
    {
     "name": "stdout",
     "output_type": "stream",
     "text": [
      "['description_length', 'loan_amount', 'loan_use_length']\n"
     ]
    }
   ],
   "source": [
    "model = ElasticNet()\n",
    "sfm = SelectFromModel(model)\n",
    "sfm.fit(X, y)\n",
    "print(list(X.iloc[:, sfm.get_support(indices=True)]))"
   ]
  },
  {
   "cell_type": "code",
   "execution_count": 204,
   "metadata": {},
   "outputs": [
    {
     "data": {
      "image/png": "[encoded data removed]",
      "text/plain": [
       "<Figure size 432x288 with 1 Axes>"
      ]
     },
     "metadata": {},
     "output_type": "display_data"
    }
   ],
   "source": [
    "from yellowbrick.features import Rank1D\n",
    "\n",
    "visualizer = Rank1D(features=X.columns, algorithm='shapiro')\n",
    "\n",
    "visualizer.fit(X, y)                \n",
    "visualizer.transform(X)         \n",
    "visualizer.poof()                     "
   ]
  },
  {
   "cell_type": "code",
   "execution_count": 205,
   "metadata": {},
   "outputs": [
    {
     "data": {
      "image/png": "[encoded data removed]",
      "text/plain": [
       "<Figure size 432x288 with 1 Axes>"
      ]
     },
     "metadata": {},
     "output_type": "display_data"
    }
   ],
   "source": [
    "from yellowbrick.features.importances import FeatureImportances\n",
    "from sklearn.linear_model import LogisticRegression\n",
    "\n",
    "fig = plt.figure()\n",
    "ax = fig.add_subplot()\n",
    "\n",
    "viz = FeatureImportances(LogisticRegression(), ax=ax)\n",
    "viz.fit(X, y)\n",
    "viz.poof()"
   ]
  },
  {
   "cell_type": "code",
   "execution_count": 206,
   "metadata": {},
   "outputs": [
    {
     "data": {
      "image/png": "[encoded data removed]",
      "text/plain": [
       "<Figure size 432x288 with 1 Axes>"
      ]
     },
     "metadata": {},
     "output_type": "display_data"
    }
   ],
   "source": [
    "from sklearn.ensemble import GradientBoostingClassifier\n",
    "\n",
    "fig = plt.figure()\n",
    "ax = fig.add_subplot()\n",
    "\n",
    "viz = FeatureImportances(GradientBoostingClassifier(), ax=ax)\n",
    "viz.fit(X, y)\n",
    "viz.poof()"
   ]
  },
  {
   "cell_type": "markdown",
   "metadata": {},
   "source": [
    "# Train and Test"
   ]
  },
  {
   "cell_type": "code",
   "execution_count": 207,
   "metadata": {},
   "outputs": [],
   "source": [
    "from sklearn.preprocessing import Normalizer\n",
    "from sklearn.preprocessing import StandardScaler\n",
    "from sklearn.preprocessing import MinMaxScaler\n",
    "from sklearn.preprocessing import MaxAbsScaler\n",
    "from sklearn.preprocessing import RobustScaler\n",
    "from sklearn.preprocessing import scale\n",
    "from sklearn.cross_validation import train_test_split\n",
    "from sklearn.metrics import confusion_matrix\n",
    "from sklearn.metrics import classification_report"
   ]
  },
  {
   "cell_type": "code",
   "execution_count": 208,
   "metadata": {},
   "outputs": [],
   "source": [
    "X_train, X_test, y_train, y_test = train_test_split(X,y,test_size = 0.2, random_state=1)"
   ]
  },
  {
   "cell_type": "code",
   "execution_count": 209,
   "metadata": {},
   "outputs": [],
   "source": [
    "#scaler=StandardScaler()\n",
    "#X_train=scaler.fit_transform(X_train)\n",
    "#X_test=scaler.transform(X_test)"
   ]
  },
  {
   "cell_type": "markdown",
   "metadata": {},
   "source": [
    "# Check balance in train and test data"
   ]
  },
  {
   "cell_type": "code",
   "execution_count": 210,
   "metadata": {},
   "outputs": [
    {
     "data": {
      "text/plain": [
       "1    0.535491\n",
       "0    0.464509\n",
       "Name: fol, dtype: float64"
      ]
     },
     "execution_count": 210,
     "metadata": {},
     "output_type": "execute_result"
    }
   ],
   "source": [
    "y.value_counts(normalize=True)"
   ]
  },
  {
   "cell_type": "code",
   "execution_count": 298,
   "metadata": {},
   "outputs": [
    {
     "data": {
      "text/plain": [
       "True     0.929635\n",
       "False    0.070365\n",
       "Name: loan_amount, dtype: float64"
      ]
     },
     "execution_count": 298,
     "metadata": {},
     "output_type": "execute_result"
    }
   ],
   "source": [
    "c.value_counts(normalize=True)"
   ]
  },
  {
   "cell_type": "code",
   "execution_count": 211,
   "metadata": {},
   "outputs": [
    {
     "data": {
      "text/plain": [
       "1    0.535681\n",
       "0    0.464319\n",
       "Name: fol, dtype: float64"
      ]
     },
     "execution_count": 211,
     "metadata": {},
     "output_type": "execute_result"
    }
   ],
   "source": [
    "y_train.value_counts(normalize=True)"
   ]
  },
  {
   "cell_type": "code",
   "execution_count": 212,
   "metadata": {},
   "outputs": [
    {
     "data": {
      "text/plain": [
       "1    0.534727\n",
       "0    0.465273\n",
       "Name: fol, dtype: float64"
      ]
     },
     "execution_count": 212,
     "metadata": {},
     "output_type": "execute_result"
    }
   ],
   "source": [
    "y_test.value_counts(normalize=True)"
   ]
  },
  {
   "cell_type": "markdown",
   "metadata": {},
   "source": [
    "# Model 1: Naive Approach"
   ]
  },
  {
   "cell_type": "code",
   "execution_count": 213,
   "metadata": {},
   "outputs": [],
   "source": [
    "from sklearn.naive_bayes import GaussianNB"
   ]
  },
  {
   "cell_type": "code",
   "execution_count": 214,
   "metadata": {},
   "outputs": [],
   "source": [
    "nb = GaussianNB()"
   ]
  },
  {
   "cell_type": "code",
   "execution_count": 215,
   "metadata": {},
   "outputs": [
    {
     "data": {
      "text/plain": [
       "GaussianNB(priors=None)"
      ]
     },
     "execution_count": 215,
     "metadata": {},
     "output_type": "execute_result"
    }
   ],
   "source": [
    "nb.fit(X_train, y_train)"
   ]
  },
  {
   "cell_type": "code",
   "execution_count": 216,
   "metadata": {},
   "outputs": [
    {
     "name": "stdout",
     "output_type": "stream",
     "text": [
      "             precision    recall  f1-score   support\n",
      "\n",
      "        FOL       0.54      0.76      0.63    109561\n",
      "        MTF       0.67      0.44      0.53    125916\n",
      "\n",
      "avg / total       0.61      0.59      0.58    235477\n",
      "\n"
     ]
    }
   ],
   "source": [
    "expected   = y_test\n",
    "predicted  = nb.predict(X_test)\n",
    "classificationReport = classification_report(expected, predicted, target_names=['FOL','MTF'])\n",
    "print(classificationReport)"
   ]
  },
  {
   "cell_type": "markdown",
   "metadata": {},
   "source": [
    "# Model 2: Logistic Regression"
   ]
  },
  {
   "cell_type": "code",
   "execution_count": 217,
   "metadata": {},
   "outputs": [],
   "source": [
    "from sklearn.linear_model import LogisticRegression"
   ]
  },
  {
   "cell_type": "code",
   "execution_count": 218,
   "metadata": {},
   "outputs": [],
   "source": [
    "lr = LogisticRegression(C=0.01)"
   ]
  },
  {
   "cell_type": "code",
   "execution_count": 220,
   "metadata": {},
   "outputs": [
    {
     "data": {
      "text/plain": [
       "LogisticRegression(C=0.01, class_weight=None, dual=False, fit_intercept=True,\n",
       "          intercept_scaling=1, max_iter=100, multi_class='ovr', n_jobs=1,\n",
       "          penalty='l2', random_state=None, solver='liblinear', tol=0.0001,\n",
       "          verbose=0, warm_start=False)"
      ]
     },
     "execution_count": 220,
     "metadata": {},
     "output_type": "execute_result"
    }
   ],
   "source": [
    "lr.fit(X_train, y_train)"
   ]
  },
  {
   "cell_type": "code",
   "execution_count": 221,
   "metadata": {
    "scrolled": true
   },
   "outputs": [
    {
     "name": "stdout",
     "output_type": "stream",
     "text": [
      "             precision    recall  f1-score   support\n",
      "\n",
      "        FOL       0.62      0.63      0.63    109561\n",
      "        MTF       0.67      0.67      0.67    125916\n",
      "\n",
      "avg / total       0.65      0.65      0.65    235477\n",
      "\n"
     ]
    }
   ],
   "source": [
    "expected   = y_test\n",
    "predicted  = lr.predict(X_test)\n",
    "classificationReport = classification_report(expected, predicted, target_names=['FOL','MTF'])\n",
    "print(classificationReport)"
   ]
  },
  {
   "cell_type": "code",
   "execution_count": 222,
   "metadata": {
    "scrolled": true
   },
   "outputs": [
    {
     "data": {
      "image/png": "[encoded data removed]",
      "text/plain": [
       "<Figure size 432x288 with 2 Axes>"
      ]
     },
     "metadata": {},
     "output_type": "display_data"
    }
   ],
   "source": [
    "from yellowbrick.classifier import ClassificationReport\n",
    "fig = plt.figure()\n",
    "ax = fig.add_subplot()\n",
    "visualizer = ClassificationReport(lr, ax=ax, classes=['FOL', 'MTF'], support=True)\n",
    "visualizer.fit(X_train, y_train)\n",
    "visualizer.score(X_test, y_test)\n",
    "visualizer.poof()"
   ]
  },
  {
   "cell_type": "code",
   "execution_count": 223,
   "metadata": {},
   "outputs": [
    {
     "data": {
      "image/png": "[encoded data removed]",
      "text/plain": [
       "<Figure size 432x288 with 1 Axes>"
      ]
     },
     "metadata": {},
     "output_type": "display_data"
    }
   ],
   "source": [
    "from yellowbrick.classifier import ROCAUC\n",
    "\n",
    "visualizer = ROCAUC(LogisticRegression(), classes=['FOL', 'MTF'])\n",
    "\n",
    "visualizer.fit(X_train, y_train)  \n",
    "visualizer.score(X_test, y_test)\n",
    "g = visualizer.poof()"
   ]
  },
  {
   "cell_type": "code",
   "execution_count": 224,
   "metadata": {},
   "outputs": [
    {
     "name": "stdout",
     "output_type": "stream",
     "text": [
      "best params: {'C': 0.01}\n",
      "best scores: -0.6305215984299067\n",
      "Accuracy: 65.0879%\n"
     ]
    }
   ],
   "source": [
    "from sklearn.model_selection import GridSearchCV, StratifiedKFold\n",
    "from sklearn.metrics import accuracy_score\n",
    "lr=LogisticRegression()\n",
    "params={'C':np.logspace(-4, 4, 5)}\n",
    "clf = GridSearchCV(lr, params, scoring='neg_log_loss', refit='True', n_jobs=-1, cv=5)\n",
    "clf.fit(X_train, y_train)\n",
    "print(\"best params: \" + str(clf.best_params_))\n",
    "print(\"best scores: \" + str(clf.best_score_))\n",
    "estimates = clf.predict_proba(X_test)\n",
    "acc = accuracy_score(y_test, clf.predict(X_test))\n",
    "print(\"Accuracy: {:.4%}\".format(acc))"
   ]
  },
  {
   "cell_type": "markdown",
   "metadata": {},
   "source": [
    "# Model 3: Random Forest"
   ]
  },
  {
   "cell_type": "code",
   "execution_count": 225,
   "metadata": {},
   "outputs": [],
   "source": [
    "from sklearn.ensemble import RandomForestClassifier"
   ]
  },
  {
   "cell_type": "code",
   "execution_count": 226,
   "metadata": {},
   "outputs": [],
   "source": [
    "rf = RandomForestClassifier(n_estimators=100)"
   ]
  },
  {
   "cell_type": "code",
   "execution_count": 227,
   "metadata": {},
   "outputs": [
    {
     "data": {
      "text/plain": [
       "RandomForestClassifier(bootstrap=True, class_weight=None, criterion='gini',\n",
       "            max_depth=None, max_features='auto', max_leaf_nodes=None,\n",
       "            min_impurity_decrease=0.0, min_impurity_split=None,\n",
       "            min_samples_leaf=1, min_samples_split=2,\n",
       "            min_weight_fraction_leaf=0.0, n_estimators=100, n_jobs=1,\n",
       "            oob_score=False, random_state=None, verbose=0,\n",
       "            warm_start=False)"
      ]
     },
     "execution_count": 227,
     "metadata": {},
     "output_type": "execute_result"
    }
   ],
   "source": [
    "rf.fit(X_train, y_train)"
   ]
  },
  {
   "cell_type": "code",
   "execution_count": 228,
   "metadata": {},
   "outputs": [
    {
     "name": "stdout",
     "output_type": "stream",
     "text": [
      "             precision    recall  f1-score   support\n",
      "\n",
      "        FOL       0.62      0.60      0.61    109561\n",
      "        MTF       0.66      0.68      0.67    125916\n",
      "\n",
      "avg / total       0.65      0.65      0.65    235477\n",
      "\n"
     ]
    }
   ],
   "source": [
    "expected   = y_test\n",
    "predicted  = rf.predict(X_test)\n",
    "classificationReport = classification_report(expected, predicted, target_names=['FOL','MTF'])\n",
    "print(classificationReport)"
   ]
  },
  {
   "cell_type": "markdown",
   "metadata": {},
   "source": [
    "# Model 4: SVM"
   ]
  },
  {
   "cell_type": "code",
   "execution_count": 229,
   "metadata": {},
   "outputs": [],
   "source": [
    "from sklearn.svm import LinearSVC"
   ]
  },
  {
   "cell_type": "code",
   "execution_count": 230,
   "metadata": {},
   "outputs": [],
   "source": [
    "svc = LinearSVC()"
   ]
  },
  {
   "cell_type": "code",
   "execution_count": 231,
   "metadata": {},
   "outputs": [
    {
     "data": {
      "text/plain": [
       "LinearSVC(C=1.0, class_weight=None, dual=True, fit_intercept=True,\n",
       "     intercept_scaling=1, loss='squared_hinge', max_iter=1000,\n",
       "     multi_class='ovr', penalty='l2', random_state=None, tol=0.0001,\n",
       "     verbose=0)"
      ]
     },
     "execution_count": 231,
     "metadata": {},
     "output_type": "execute_result"
    }
   ],
   "source": [
    "svc.fit(X_train, y_train)"
   ]
  },
  {
   "cell_type": "code",
   "execution_count": 232,
   "metadata": {},
   "outputs": [
    {
     "name": "stdout",
     "output_type": "stream",
     "text": [
      "             precision    recall  f1-score   support\n",
      "\n",
      "        FOL       0.47      1.00      0.64    109561\n",
      "        MTF       0.88      0.00      0.00    125916\n",
      "\n",
      "avg / total       0.69      0.47      0.30    235477\n",
      "\n"
     ]
    }
   ],
   "source": [
    "expected   = y_test\n",
    "predicted  = svc.predict(X_test)\n",
    "\n",
    "classificationReport = classification_report(expected, predicted, target_names=['FOL','MTF'])\n",
    "print(classificationReport)"
   ]
  },
  {
   "cell_type": "markdown",
   "metadata": {},
   "source": [
    "# Model 5: LDA"
   ]
  },
  {
   "cell_type": "code",
   "execution_count": 233,
   "metadata": {},
   "outputs": [],
   "source": [
    "from sklearn.discriminant_analysis import LinearDiscriminantAnalysis as LDA"
   ]
  },
  {
   "cell_type": "code",
   "execution_count": 234,
   "metadata": {},
   "outputs": [],
   "source": [
    "lda = LDA(n_components=2)"
   ]
  },
  {
   "cell_type": "code",
   "execution_count": 235,
   "metadata": {},
   "outputs": [
    {
     "data": {
      "text/plain": [
       "LinearDiscriminantAnalysis(n_components=2, priors=None, shrinkage=None,\n",
       "              solver='svd', store_covariance=False, tol=0.0001)"
      ]
     },
     "execution_count": 235,
     "metadata": {},
     "output_type": "execute_result"
    }
   ],
   "source": [
    "lda.fit(X_train,y_train)"
   ]
  },
  {
   "cell_type": "code",
   "execution_count": 236,
   "metadata": {},
   "outputs": [
    {
     "name": "stdout",
     "output_type": "stream",
     "text": [
      "             precision    recall  f1-score   support\n",
      "\n",
      "        FOL       0.62      0.63      0.63    109561\n",
      "        MTF       0.68      0.67      0.67    125916\n",
      "\n",
      "avg / total       0.65      0.65      0.65    235477\n",
      "\n"
     ]
    }
   ],
   "source": [
    "expected   = y_test\n",
    "predicted  = lda.predict(X_test)\n",
    "classificationReport = classification_report(expected, predicted, target_names=['FOL','MTF'])\n",
    "print(classificationReport)"
   ]
  },
  {
   "cell_type": "markdown",
   "metadata": {},
   "source": [
    "# Model 6: Gradient Boosting"
   ]
  },
  {
   "cell_type": "code",
   "execution_count": 237,
   "metadata": {},
   "outputs": [],
   "source": [
    "from sklearn.ensemble import GradientBoostingClassifier"
   ]
  },
  {
   "cell_type": "code",
   "execution_count": 238,
   "metadata": {},
   "outputs": [],
   "source": [
    "gbc = GradientBoostingClassifier()"
   ]
  },
  {
   "cell_type": "code",
   "execution_count": 240,
   "metadata": {},
   "outputs": [
    {
     "data": {
      "text/plain": [
       "GradientBoostingClassifier(criterion='friedman_mse', init=None,\n",
       "              learning_rate=0.1, loss='deviance', max_depth=3,\n",
       "              max_features=None, max_leaf_nodes=None,\n",
       "              min_impurity_decrease=0.0, min_impurity_split=None,\n",
       "              min_samples_leaf=1, min_samples_split=2,\n",
       "              min_weight_fraction_leaf=0.0, n_estimators=100,\n",
       "              presort='auto', random_state=None, subsample=1.0, verbose=0,\n",
       "              warm_start=False)"
      ]
     },
     "execution_count": 240,
     "metadata": {},
     "output_type": "execute_result"
    }
   ],
   "source": [
    "gbc.fit(X_train,y_train)"
   ]
  },
  {
   "cell_type": "code",
   "execution_count": 241,
   "metadata": {},
   "outputs": [
    {
     "name": "stdout",
     "output_type": "stream",
     "text": [
      "             precision    recall  f1-score   support\n",
      "\n",
      "        FOL       0.64      0.64      0.64    109561\n",
      "        MTF       0.69      0.69      0.69    125916\n",
      "\n",
      "avg / total       0.66      0.66      0.66    235477\n",
      "\n"
     ]
    }
   ],
   "source": [
    "expected = y_test\n",
    "predicted  = gbc.predict(X_test)\n",
    "classificationReport = classification_report(expected, predicted, target_names=['FOL','MTF'])\n",
    "print(classificationReport)"
   ]
  },
  {
   "cell_type": "code",
   "execution_count": 242,
   "metadata": {},
   "outputs": [
    {
     "data": {
      "image/png": "[encoded data removed]",
      "text/plain": [
       "<Figure size 432x288 with 2 Axes>"
      ]
     },
     "metadata": {},
     "output_type": "display_data"
    }
   ],
   "source": [
    "from yellowbrick.classifier import ClassificationReport\n",
    "fig = plt.figure()\n",
    "ax = fig.add_subplot()\n",
    "visualizer = ClassificationReport(gbc, ax=ax, classes=['FOL', 'MTF'], support=True)\n",
    "visualizer.fit(X_train, y_train)\n",
    "visualizer.score(X_test, y_test)\n",
    "visualizer.poof()"
   ]
  },
  {
   "cell_type": "markdown",
   "metadata": {},
   "source": [
    "# Model 7: MLP"
   ]
  },
  {
   "cell_type": "code",
   "execution_count": 243,
   "metadata": {},
   "outputs": [],
   "source": [
    "from sklearn.neural_network import MLPClassifier"
   ]
  },
  {
   "cell_type": "code",
   "execution_count": 244,
   "metadata": {},
   "outputs": [],
   "source": [
    "mlp=MLPClassifier(alpha=1)"
   ]
  },
  {
   "cell_type": "code",
   "execution_count": 245,
   "metadata": {},
   "outputs": [
    {
     "data": {
      "text/plain": [
       "MLPClassifier(activation='relu', alpha=1, batch_size='auto', beta_1=0.9,\n",
       "       beta_2=0.999, early_stopping=False, epsilon=1e-08,\n",
       "       hidden_layer_sizes=(100,), learning_rate='constant',\n",
       "       learning_rate_init=0.001, max_iter=200, momentum=0.9,\n",
       "       nesterovs_momentum=True, power_t=0.5, random_state=None,\n",
       "       shuffle=True, solver='adam', tol=0.0001, validation_fraction=0.1,\n",
       "       verbose=False, warm_start=False)"
      ]
     },
     "execution_count": 245,
     "metadata": {},
     "output_type": "execute_result"
    }
   ],
   "source": [
    "mlp.fit(X_train,y_train)"
   ]
  },
  {
   "cell_type": "code",
   "execution_count": 246,
   "metadata": {},
   "outputs": [
    {
     "name": "stdout",
     "output_type": "stream",
     "text": [
      "             precision    recall  f1-score   support\n",
      "\n",
      "        FOL       0.62      0.63      0.63    109561\n",
      "        MTF       0.67      0.66      0.67    125916\n",
      "\n",
      "avg / total       0.65      0.65      0.65    235477\n",
      "\n"
     ]
    }
   ],
   "source": [
    "expected = y_test\n",
    "predicted  = mlp.predict(X_test)\n",
    "classificationReport = classification_report(expected, predicted, target_names=['FOL','MTF'])\n",
    "print(classificationReport)"
   ]
  },
  {
   "cell_type": "markdown",
   "metadata": {},
   "source": [
    "# Model 8: Bagging"
   ]
  },
  {
   "cell_type": "code",
   "execution_count": 247,
   "metadata": {},
   "outputs": [],
   "source": [
    "from sklearn.ensemble import BaggingClassifier"
   ]
  },
  {
   "cell_type": "code",
   "execution_count": 248,
   "metadata": {},
   "outputs": [],
   "source": [
    "bc=BaggingClassifier(n_estimators=100, oob_score=10)"
   ]
  },
  {
   "cell_type": "code",
   "execution_count": 249,
   "metadata": {},
   "outputs": [
    {
     "data": {
      "text/plain": [
       "BaggingClassifier(base_estimator=None, bootstrap=True,\n",
       "         bootstrap_features=False, max_features=1.0, max_samples=1.0,\n",
       "         n_estimators=100, n_jobs=1, oob_score=10, random_state=None,\n",
       "         verbose=0, warm_start=False)"
      ]
     },
     "execution_count": 249,
     "metadata": {},
     "output_type": "execute_result"
    }
   ],
   "source": [
    "bc.fit(X_train,y_train)"
   ]
  },
  {
   "cell_type": "code",
   "execution_count": 250,
   "metadata": {},
   "outputs": [
    {
     "name": "stdout",
     "output_type": "stream",
     "text": [
      "             precision    recall  f1-score   support\n",
      "\n",
      "        FOL       0.62      0.61      0.61    109561\n",
      "        MTF       0.66      0.68      0.67    125916\n",
      "\n",
      "avg / total       0.64      0.65      0.64    235477\n",
      "\n"
     ]
    }
   ],
   "source": [
    "expected = y_test\n",
    "predicted  = bc.predict(X_test)\n",
    "classificationReport = classification_report(expected, predicted, target_names=['FOL','MTF'])\n",
    "print(classificationReport)"
   ]
  }
 ],
 "metadata": {
  "kernelspec": {
   "display_name": "Python 3",
   "language": "python",
   "name": "python3"
  },
  "language_info": {
   "codemirror_mode": {
    "name": "ipython",
    "version": 3
   },
   "file_extension": ".py",
   "mimetype": "text/x-python",
   "name": "python",
   "nbconvert_exporter": "python",
   "pygments_lexer": "ipython3",
   "version": "3.6.5"
  }
 },
 "nbformat": 4,
 "nbformat_minor": 2
}
