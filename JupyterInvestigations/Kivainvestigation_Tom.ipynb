{
 "cells": [
  {
   "cell_type": "code",
   "execution_count": 1,
   "metadata": {},
   "outputs": [
    {
     "ename": "ModuleNotFoundError",
     "evalue": "No module named 'ingestion'",
     "output_type": "error",
     "traceback": [
      "\u001b[0;31m---------------------------------------------------------------------------\u001b[0m",
      "\u001b[0;31mModuleNotFoundError\u001b[0m                       Traceback (most recent call last)",
      "\u001b[0;32m<ipython-input-1-a9f3cb5e971f>\u001b[0m in \u001b[0;36m<module>\u001b[0;34m()\u001b[0m\n\u001b[0;32m----> 1\u001b[0;31m \u001b[0;32mfrom\u001b[0m \u001b[0mingestion\u001b[0m\u001b[0;34m.\u001b[0m\u001b[0mkivadataloader\u001b[0m \u001b[0;32mimport\u001b[0m \u001b[0mKivaDataLoader\u001b[0m\u001b[0;34m\u001b[0m\u001b[0m\n\u001b[0m\u001b[1;32m      2\u001b[0m \u001b[0;32mimport\u001b[0m \u001b[0mpandas\u001b[0m \u001b[0;32mas\u001b[0m \u001b[0mpd\u001b[0m\u001b[0;34m\u001b[0m\u001b[0m\n\u001b[1;32m      3\u001b[0m \u001b[0;34m\u001b[0m\u001b[0m\n\u001b[1;32m      4\u001b[0m \u001b[0mm\u001b[0m \u001b[0;34m=\u001b[0m \u001b[0mKivaDataLoader\u001b[0m\u001b[0;34m(\u001b[0m\u001b[0;34m)\u001b[0m\u001b[0;34m\u001b[0m\u001b[0m\n\u001b[1;32m      5\u001b[0m \u001b[0mcleaneduploans\u001b[0m \u001b[0;34m=\u001b[0m \u001b[0mm\u001b[0m\u001b[0;34m.\u001b[0m\u001b[0mget_clean_dataframe\u001b[0m\u001b[0;34m(\u001b[0m\u001b[0;34m)\u001b[0m\u001b[0;34m\u001b[0m\u001b[0m\n",
      "\u001b[0;31mModuleNotFoundError\u001b[0m: No module named 'ingestion'"
     ]
    }
   ],
   "source": [
    "from ingestion.kivadataloader import KivaDataLoader\n",
    "import pandas as pd\n",
    "\n",
    "m = KivaDataLoader()\n",
    "cleaneduploans = m.get_clean_dataframe()\n",
    "\n",
    "print (cleaneduploans.count())"
   ]
  },
  {
   "cell_type": "code",
   "execution_count": null,
   "metadata": {},
   "outputs": [],
   "source": [
    "cleaneduploans['raised_in_7_days_bit'].mean()"
   ]
  },
  {
   "cell_type": "code",
   "execution_count": null,
   "metadata": {},
   "outputs": [],
   "source": [
    "from sqlalchemy import create_engine\n",
    "import pandas as pd\n",
    "import numpy as np\n",
    "\n",
    "from config import dbconfig\n",
    "\n",
    "\n",
    "engine = create_engine(dbconfig.aws_connection_string)\n",
    "table_names = engine.table_names()\n",
    "print(table_names)"
   ]
  },
  {
   "cell_type": "code",
   "execution_count": null,
   "metadata": {},
   "outputs": [],
   "source": [
    "statement = \"\"\"SELECT \n",
    "loans.loan_id\n",
    ",loan_name\n",
    ",CASE WHEN original_language = 'English'  THEN  1 ELSE 0 END AS language_english \n",
    ",char_length(description) as description_length\n",
    ",funded_amount\n",
    ",loan_amount\n",
    ",loans.status as status_loans\n",
    ",CASE WHEN image_id IS NULL THEN  0 ELSE 1 END as loan_image_provided\n",
    ",CASE WHEN video_id IS NULL THEN  0 ELSE 1 END  as loan_video_provided\n",
    ",activity_name\n",
    ",sector_name\n",
    ",char_length(loan_use) loan_use_length\n",
    ",country_code\n",
    ",country_name\n",
    ",currency_policy\n",
    ",currency_exchange_coverage_rate\n",
    ",currency\n",
    ",CASE WHEN currency = 'USD' THEN 1 ELSE 0 END as currency_usd\n",
    ",partner_id\n",
    ",planned_expiration_time\n",
    ",num_journal_entries\n",
    ",num_bulk_entries\n",
    ",CASE WHEN char_length(tags) > 0 THEN  1 ELSE 0 END tags_exist\n",
    ",borrower_genders\n",
    ",CASE WHEN borrower_pictured = 'FALSE' THEN 0 ELSE 1 END as atleast1_borrower_pictured\n",
    ",repayment_interval\n",
    ",distribution_model\n",
    ",posted_time_actual\n",
    ",disburse_to_posted_days\n",
    ",posted_to_raised_days\n",
    ",case when posted_to_raised_days < 8 then 0 when posted_to_raised_days < 15 then 1 \n",
    "when posted_to_raised_days < 22 then 2 else 3 end as posted_to_raised_bins\n",
    ",disbursed_to_raised_days\n",
    ",partners.status as partner_status\n",
    ",rating as partner_rating\n",
    ",start_date as parner_start_date\n",
    ",delinquency_rate as partner_delinquency_rate\n",
    ",default_rate as partner_default_rate\n",
    ",total_amount_raised as partner_total_amount_raised\n",
    ",loans_posted as partner_loans_posted\n",
    ",case when charges_fees_and_interest = 'TRUE' THEN 1 ELSE 0 END as partner_charges_fees_and_interest\n",
    ",average_loan_size_percent_per_capita_income as partner_avg_loan_size_pct_per_capita_income\n",
    ",loans_at_risk_rate as partner_loans_at_risk_rate\n",
    ",currency_exchange_loss_rate as partner_loans_at_risk_rate\n",
    ",CASE WHEN char_length(url) > 0 THEN  1 ELSE 0 END as partner_url_length\n",
    ",portfolio_yield as partner_portfolio_yield\n",
    ",profitability  as partner_profitability\n",
    " FROM loans\n",
    "inner join partners on partners.id = loans.partner_id\n",
    "inner join loan_dates on loans.loan_id = loan_dates.loan_id\n",
    "where loans.status = 'funded' \n",
    "and posted_to_raised_days >= 0 and posted_to_raised_days <= 30\n",
    "and borrower_genders <> 'None' \n",
    "\"\"\"\n",
    "\n",
    "print (statement)\n",
    "print ('The above statement takes about 5 minutes to run. Column totals will show when finished.')\n",
    "#and posted_time_actual >= make_date(2016, 6 ,1) and posted_time_actual <= make_date(2017, 5 ,31)\n",
    "cleanloans = pd.read_sql_query(statement, engine)\n",
    "\n",
    "print (cleanloans.count())"
   ]
  },
  {
   "cell_type": "markdown",
   "metadata": {},
   "source": [
    "# Add the borrowers code"
   ]
  },
  {
   "cell_type": "code",
   "execution_count": null,
   "metadata": {},
   "outputs": [],
   "source": [
    "cleanloans['num_borrowers_female'] = cleanloans['borrower_genders'].str.count('female')\n",
    "cleanloans['num_borrowers_male'] = cleanloans['borrower_genders'].str.count('^male') + cleanloans['borrower_genders'].str.count('\\, male')\n",
    "cleanloans['num_borrowers'] = cleanloans['num_borrowers_female']+cleanloans['num_borrowers_male']\n",
    "\n",
    "cleanloans['num_borrowers_female_pct'] = (cleanloans['num_borrowers_female']*1.00)/cleanloans['num_borrowers']"
   ]
  },
  {
   "cell_type": "markdown",
   "metadata": {},
   "source": [
    "# One Hot the categories"
   ]
  },
  {
   "cell_type": "code",
   "execution_count": null,
   "metadata": {},
   "outputs": [],
   "source": [
    "import pandas as pd\n",
    "\n",
    "cleanloans = pd.concat([cleanloans,pd.get_dummies(cleanloans['sector_name'], prefix='sector_name')],axis=1)\n",
    "cleanloans.drop(['sector_name'],axis=1, inplace=True)\n",
    "\n",
    "cleanloans = pd.concat([cleanloans,pd.get_dummies(cleanloans['distribution_model'], prefix='distribution_model')],axis=1)\n",
    "cleanloans.drop(['distribution_model'],axis=1, inplace=True)\n",
    "\n",
    "cleanloans = pd.concat([cleanloans,pd.get_dummies(cleanloans['repayment_interval'], prefix='repayment_interval')],axis=1)\n",
    "cleanloans.drop(['repayment_interval'],axis=1, inplace=True)"
   ]
  },
  {
   "cell_type": "code",
   "execution_count": null,
   "metadata": {},
   "outputs": [],
   "source": [
    "print (cleanloans.count())"
   ]
  },
  {
   "cell_type": "code",
   "execution_count": null,
   "metadata": {},
   "outputs": [],
   "source": [
    "print (cleanloans.count())"
   ]
  },
  {
   "cell_type": "code",
   "execution_count": null,
   "metadata": {},
   "outputs": [],
   "source": [
    "cleanloans"
   ]
  },
  {
   "cell_type": "code",
   "execution_count": null,
   "metadata": {},
   "outputs": [],
   "source": [
    "import statsmodels.api as sm\n",
    "\n",
    "X = cleanloans[cleanloans['num_borrowers_female_pct'] >= 0]['num_borrowers_female_pct']\n",
    "y = cleanloans[cleanloans['num_borrowers_female_pct'] >= 0][\"posted_to_raised_bins\"]\n",
    "\n",
    "# Fit and make the predictions by the model\n",
    "model = sm.OLS(y, X).fit()\n",
    "predictions = model.predict(X)\n",
    "\n",
    "# Print out the statistics\n",
    "model.summary()"
   ]
  },
  {
   "cell_type": "code",
   "execution_count": null,
   "metadata": {},
   "outputs": [],
   "source": [
    "import matplotlib.pyplot as plt\n",
    "\n",
    "plt.hist(cleanloans['num_borrowers_female_pct'], bins=20)"
   ]
  },
  {
   "cell_type": "code",
   "execution_count": null,
   "metadata": {},
   "outputs": [],
   "source": [
    "import matplotlib.pyplot as plt\n",
    "\n",
    "plt.hist(cleanloans['posted_to_raised_days'], bins=4)"
   ]
  },
  {
   "cell_type": "code",
   "execution_count": null,
   "metadata": {},
   "outputs": [],
   "source": [
    "import yellowbrick\n",
    "from yellowbrick.binning import BalancedBinningReference\n",
    "\n",
    "# Load the a regression data set\n",
    "data = cleanloans\n",
    "\n",
    "# Extract the target of interest\n",
    "y = data[\"posted_to_raised_days\"]\n",
    "\n",
    "# Instantiate the visualizer\n",
    "visualizer = BalancedBinningReference()\n",
    "\n",
    "visualizer.fit(y)          # Fit the data to the visualizer\n",
    "visualizer.poof()          # Draw/show/poof the data"
   ]
  },
  {
   "cell_type": "code",
   "execution_count": null,
   "metadata": {},
   "outputs": [],
   "source": [
    "from yellowbrick.features import ParallelCoordinates\n",
    "\n",
    "columns = ['a','b']\n",
    "X = \n",
    "\n",
    "visualizer = ParallelCoordinates()\n",
    "visualizer.fit_transform(X, y)\n",
    "visualizer.poof()"
   ]
  },
  {
   "cell_type": "code",
   "execution_count": null,
   "metadata": {},
   "outputs": [],
   "source": []
  }
 ],
 "metadata": {
  "kernelspec": {
   "display_name": "Python 3",
   "language": "python",
   "name": "python3"
  }
 },
 "nbformat": 4,
 "nbformat_minor": 2
}
