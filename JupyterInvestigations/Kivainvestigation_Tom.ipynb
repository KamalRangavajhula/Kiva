{
 "cells": [
  {
   "cell_type": "code",
   "execution_count": 10,
   "metadata": {},
   "outputs": [
    {
     "name": "stdout",
     "output_type": "stream",
     "text": [
      "['', '/anaconda3/lib/python36.zip', '/anaconda3/lib/python3.6', '/anaconda3/lib/python3.6/lib-dynload', '/anaconda3/lib/python3.6/site-packages', '/anaconda3/lib/python3.6/site-packages/aeosa', '/anaconda3/lib/python3.6/site-packages/IPython/extensions', '/Users/tjoneil/.ipython']\n",
      "Connected to kivateam.cnd5idfvxmld.us-east-1.rds.amazonaws.com:5432/kiva\n"
     ]
    }
   ],
   "source": [
    "from ingestion.kivadataloader import KivaDataLoader\n",
    "import pandas as pd\n",
    "import sys\n",
    "\n",
    "print (sys.path)\n",
    "\n",
    "\n",
    "m = KivaDataLoader()"
   ]
  },
  {
   "cell_type": "code",
   "execution_count": 2,
   "metadata": {},
   "outputs": [
    {
     "data": {
      "text/plain": [
       "0.5766957015004938"
      ]
     },
     "execution_count": 2,
     "metadata": {},
     "output_type": "execute_result"
    }
   ],
   "source": [
    "cleaneduploans['raised_in_7_days_bit'].mean()"
   ]
  },
  {
   "cell_type": "code",
   "execution_count": 3,
   "metadata": {},
   "outputs": [
    {
     "name": "stdout",
     "output_type": "stream",
     "text": [
      "['partners', 'loan_dates', 'd_date', 'lenders', 'loans', 'loans_lenders', 'kiva_data_flat']\n"
     ]
    }
   ],
   "source": [
    "from sqlalchemy import create_engine\n",
    "import pandas as pd\n",
    "import numpy as np\n",
    "\n",
    "from config import dbconfig\n",
    "\n",
    "\n",
    "engine = create_engine(dbconfig.aws_connection_string)\n",
    "table_names = engine.table_names()\n",
    "print(table_names)"
   ]
  },
  {
   "cell_type": "code",
   "execution_count": null,
   "metadata": {},
   "outputs": [],
   "source": [
    "statement = \"\"\"SELECT \n",
    "loans.loan_id\n",
    ",loan_name\n",
    ",CASE WHEN original_language = 'English'  THEN  1 ELSE 0 END AS language_english \n",
    ",char_length(description) as description_length\n",
    ",funded_amount\n",
    ",loan_amount\n",
    ",loans.status as status_loans\n",
    ",CASE WHEN image_id IS NULL THEN  0 ELSE 1 END as loan_image_provided\n",
    ",CASE WHEN video_id IS NULL THEN  0 ELSE 1 END  as loan_video_provided\n",
    ",activity_name\n",
    ",sector_name\n",
    ",char_length(loan_use) loan_use_length\n",
    ",country_code\n",
    ",country_name\n",
    ",currency_policy\n",
    ",currency_exchange_coverage_rate\n",
    ",currency\n",
    ",CASE WHEN currency = 'USD' THEN 1 ELSE 0 END as currency_usd\n",
    ",partner_id\n",
    ",planned_expiration_time\n",
    ",num_journal_entries\n",
    ",num_bulk_entries\n",
    ",CASE WHEN char_length(tags) > 0 THEN  1 ELSE 0 END tags_exist\n",
    ",borrower_genders\n",
    ",CASE WHEN borrower_pictured = 'FALSE' THEN 0 ELSE 1 END as atleast1_borrower_pictured\n",
    ",repayment_interval\n",
    ",distribution_model\n",
    ",posted_time_actual\n",
    ",disburse_to_posted_days\n",
    ",posted_to_raised_days\n",
    ",case when posted_to_raised_days < 8 then 0 when posted_to_raised_days < 15 then 1 \n",
    "when posted_to_raised_days < 22 then 2 else 3 end as posted_to_raised_bins\n",
    ",disbursed_to_raised_days\n",
    ",partners.status as partner_status\n",
    ",rating as partner_rating\n",
    ",start_date as parner_start_date\n",
    ",delinquency_rate as partner_delinquency_rate\n",
    ",default_rate as partner_default_rate\n",
    ",total_amount_raised as partner_total_amount_raised\n",
    ",loans_posted as partner_loans_posted\n",
    ",case when charges_fees_and_interest = 'TRUE' THEN 1 ELSE 0 END as partner_charges_fees_and_interest\n",
    ",average_loan_size_percent_per_capita_income as partner_avg_loan_size_pct_per_capita_income\n",
    ",loans_at_risk_rate as partner_loans_at_risk_rate\n",
    ",currency_exchange_loss_rate as partner_loans_at_risk_rate\n",
    ",CASE WHEN char_length(url) > 0 THEN  1 ELSE 0 END as partner_url_length\n",
    ",portfolio_yield as partner_portfolio_yield\n",
    ",profitability  as partner_profitability\n",
    " FROM loans\n",
    "inner join partners on partners.id = loans.partner_id\n",
    "inner join loan_dates on loans.loan_id = loan_dates.loan_id\n",
    "where loans.status = 'funded' \n",
    "and posted_to_raised_days >= 0 and posted_to_raised_days <= 30\n",
    "and borrower_genders <> 'None' \n",
    "\"\"\"\n",
    "\n",
    "print (statement)\n",
    "print ('The above statement takes about 5 minutes to run. Column totals will show when finished.')\n",
    "#and posted_time_actual >= make_date(2016, 6 ,1) and posted_time_actual <= make_date(2017, 5 ,31)\n",
    "cleanloans = pd.read_sql_query(statement, engine)\n",
    "\n",
    "print (cleanloans.count())"
   ]
  },
  {
   "cell_type": "markdown",
   "metadata": {},
   "source": [
    "# Add the borrowers code"
   ]
  },
  {
   "cell_type": "code",
   "execution_count": null,
   "metadata": {},
   "outputs": [],
   "source": [
    "cleanloans['num_borrowers_female'] = cleanloans['borrower_genders'].str.count('female')\n",
    "cleanloans['num_borrowers_male'] = cleanloans['borrower_genders'].str.count('^male') + cleanloans['borrower_genders'].str.count('\\, male')\n",
    "cleanloans['num_borrowers'] = cleanloans['num_borrowers_female']+cleanloans['num_borrowers_male']\n",
    "\n",
    "cleanloans['num_borrowers_female_pct'] = (cleanloans['num_borrowers_female']*1.00)/cleanloans['num_borrowers']"
   ]
  },
  {
   "cell_type": "markdown",
   "metadata": {},
   "source": [
    "# One Hot the categories"
   ]
  },
  {
   "cell_type": "code",
   "execution_count": null,
   "metadata": {},
   "outputs": [],
   "source": [
    "import pandas as pd\n",
    "\n",
    "cleanloans = pd.concat([cleanloans,pd.get_dummies(cleanloans['sector_name'], prefix='sector_name')],axis=1)\n",
    "cleanloans.drop(['sector_name'],axis=1, inplace=True)\n",
    "\n",
    "cleanloans = pd.concat([cleanloans,pd.get_dummies(cleanloans['distribution_model'], prefix='distribution_model')],axis=1)\n",
    "cleanloans.drop(['distribution_model'],axis=1, inplace=True)\n",
    "\n",
    "cleanloans = pd.concat([cleanloans,pd.get_dummies(cleanloans['repayment_interval'], prefix='repayment_interval')],axis=1)\n",
    "cleanloans.drop(['repayment_interval'],axis=1, inplace=True)"
   ]
  },
  {
   "cell_type": "code",
   "execution_count": null,
   "metadata": {},
   "outputs": [],
   "source": [
    "print (cleanloans.count())"
   ]
  },
  {
   "cell_type": "code",
   "execution_count": null,
   "metadata": {},
   "outputs": [],
   "source": [
    "print (cleanloans.count())"
   ]
  },
  {
   "cell_type": "code",
   "execution_count": null,
   "metadata": {},
   "outputs": [],
   "source": [
    "cleanloans"
   ]
  },
  {
   "cell_type": "code",
   "execution_count": 7,
   "metadata": {},
   "outputs": [
    {
     "name": "stdout",
     "output_type": "stream",
     "text": [
      "0          0.693921\n",
      "1          0.000000\n",
      "2          0.693921\n",
      "3          0.693921\n",
      "4          0.000000\n",
      "5          0.693921\n",
      "6          0.693921\n",
      "7          0.693921\n",
      "8          0.693921\n",
      "9          0.693921\n",
      "10         0.693921\n",
      "11         0.693921\n",
      "12         0.693921\n",
      "13         0.693921\n",
      "14         0.693921\n",
      "15         0.693921\n",
      "16         0.693921\n",
      "17         0.693921\n",
      "18         0.693921\n",
      "19         0.000000\n",
      "20         0.000000\n",
      "21         0.693921\n",
      "22         0.000000\n",
      "23         0.555137\n",
      "24         0.693921\n",
      "25         0.693921\n",
      "26         0.693921\n",
      "27         0.000000\n",
      "28         0.693921\n",
      "29         0.000000\n",
      "             ...   \n",
      "1170518    0.693921\n",
      "1170519    0.693921\n",
      "1170520    0.693921\n",
      "1170521    0.693921\n",
      "1170522    0.693921\n",
      "1170523    0.693921\n",
      "1170524    0.693921\n",
      "1170525    0.693921\n",
      "1170526    0.693921\n",
      "1170527    0.693921\n",
      "1170528    0.693921\n",
      "1170529    0.693921\n",
      "1170530    0.693921\n",
      "1170531    0.000000\n",
      "1170532    0.000000\n",
      "1170533    0.693921\n",
      "1170534    0.000000\n",
      "1170535    0.693921\n",
      "1170536    0.693921\n",
      "1170537    0.693921\n",
      "1170538    0.693921\n",
      "1170539    0.693921\n",
      "1170540    0.693921\n",
      "1170541    0.693921\n",
      "1170542    0.693921\n",
      "1170543    0.693921\n",
      "1170544    0.693921\n",
      "1170545    0.636094\n",
      "1170546    0.693921\n",
      "1170547    0.000000\n",
      "Length: 1170548, dtype: float64\n"
     ]
    }
   ],
   "source": [
    "import statsmodels.api as sm\n",
    "import pickle\n",
    "\n",
    "X = cleaneduploans[cleaneduploans['num_borrowers_female_pct'] >= 0]['num_borrowers_female_pct']\n",
    "y = cleaneduploans[cleaneduploans['num_borrowers_female_pct'] >= 0][\"posted_to_raised_bins\"]\n",
    "\n",
    "# Fit and make the predictions by the model\n",
    "model = sm.OLS(y, X).fit()\n",
    "predictions = model.predict(X)\n",
    "\n",
    "# Print out the statistics\n",
    "model.summary()\n",
    "filename = 'kiva-predictor.pkl'\n",
    "pickle.dump(model, open(filename, 'wb'))\n",
    "\n",
    "loaded_model = pickle.load(open(filename, 'rb'))\n",
    "result = loaded_model.predict(X)\n",
    "print(result)"
   ]
  },
  {
   "cell_type": "code",
   "execution_count": null,
   "metadata": {},
   "outputs": [],
   "source": [
    "import matplotlib.pyplot as plt\n",
    "\n",
    "plt.hist(cleanloans['num_borrowers_female_pct'], bins=20)"
   ]
  },
  {
   "cell_type": "code",
   "execution_count": null,
   "metadata": {},
   "outputs": [],
   "source": [
    "import matplotlib.pyplot as plt\n",
    "\n",
    "plt.hist(cleanloans['posted_to_raised_days'], bins=4)"
   ]
  },
  {
   "cell_type": "code",
   "execution_count": null,
   "metadata": {},
   "outputs": [],
   "source": [
    "import yellowbrick\n",
    "from yellowbrick.binning import BalancedBinningReference\n",
    "\n",
    "# Load the a regression data set\n",
    "data = cleanloans\n",
    "\n",
    "# Extract the target of interest\n",
    "y = data[\"posted_to_raised_days\"]\n",
    "\n",
    "# Instantiate the visualizer\n",
    "visualizer = BalancedBinningReference()\n",
    "\n",
    "visualizer.fit(y)          # Fit the data to the visualizer\n",
    "visualizer.poof()          # Draw/show/poof the data"
   ]
  },
  {
   "cell_type": "code",
   "execution_count": null,
   "metadata": {},
   "outputs": [],
   "source": [
    "from yellowbrick.features import ParallelCoordinates\n",
    "\n",
    "columns = ['a','b']\n",
    "X = \n",
    "\n",
    "visualizer = ParallelCoordinates()\n",
    "visualizer.fit_transform(X, y)\n",
    "visualizer.poof()"
   ]
  },
  {
   "cell_type": "code",
   "execution_count": null,
   "metadata": {},
   "outputs": [],
   "source": []
  }
 ],
 "metadata": {
  "kernelspec": {
   "display_name": "Python 3",
   "language": "python",
   "name": "python3"
  },
  "language_info": {
   "codemirror_mode": {
    "name": "ipython",
    "version": 3
   },
   "file_extension": ".py",
   "mimetype": "text/x-python",
   "name": "python",
   "nbconvert_exporter": "python",
   "pygments_lexer": "ipython3",
   "version": "3.6.5"
  }
 },
 "nbformat": 4,
 "nbformat_minor": 2
}
