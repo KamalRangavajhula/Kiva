{
 "cells": [
  {
   "cell_type": "code",
   "execution_count": 1,
   "metadata": {},
   "outputs": [],
   "source": [
    "from sqlalchemy import create_engine\n",
    "import pandas as pd\n",
    "import numpy as np\n",
    "import matplotlib.pyplot as plt\n",
    "import seaborn as sns\n",
    "from config import dbconfig\n",
    "sns.set()"
   ]
  },
  {
   "cell_type": "code",
   "execution_count": null,
   "metadata": {},
   "outputs": [],
   "source": []
  },
  {
   "cell_type": "code",
   "execution_count": 2,
   "metadata": {},
   "outputs": [
    {
     "name": "stdout",
     "output_type": "stream",
     "text": [
      "['partners', 'loan_dates', 'd_date', 'lenders', 'loans', 'loans_lenders', 'kiva_data_flat']\n"
     ]
    }
   ],
   "source": [
    "engine = create_engine(dbconfig.aws_connection_string)\n",
    "table_names = engine.table_names()\n",
    "print(table_names)"
   ]
  },
  {
   "cell_type": "code",
   "execution_count": 3,
   "metadata": {},
   "outputs": [],
   "source": [
    "days = pd.read_sql_query(\"SELECT * FROM loan_dates\", engine)\n",
    "loans = pd.read_sql_query(\"SELECT * FROM loans\", engine)\n",
    "partners = pd.read_sql_query(\"SELECT * FROM partners\", engine)"
   ]
  },
  {
   "cell_type": "code",
   "execution_count": 4,
   "metadata": {},
   "outputs": [
    {
     "data": {
      "text/plain": [
       "Index(['loan_id', 'posted_time_actual', 'disburse_time_actual',\n",
       "       'raised_time_actual', 'disburse_to_posted_days',\n",
       "       'posted_to_raised_days', 'disbursed_to_raised_days'],\n",
       "      dtype='object')"
      ]
     },
     "execution_count": 4,
     "metadata": {},
     "output_type": "execute_result"
    }
   ],
   "source": [
    "days.columns"
   ]
  },
  {
   "cell_type": "code",
   "execution_count": 20,
   "metadata": {},
   "outputs": [
    {
     "data": {
      "text/html": [
       "<div>\n",
       "<style scoped>\n",
       "    .dataframe tbody tr th:only-of-type {\n",
       "        vertical-align: middle;\n",
       "    }\n",
       "\n",
       "    .dataframe tbody tr th {\n",
       "        vertical-align: top;\n",
       "    }\n",
       "\n",
       "    .dataframe thead th {\n",
       "        text-align: right;\n",
       "    }\n",
       "</style>\n",
       "<table border=\"1\" class=\"dataframe\">\n",
       "  <thead>\n",
       "    <tr style=\"text-align: right;\">\n",
       "      <th></th>\n",
       "      <th>loan_id</th>\n",
       "      <th>posted_time_actual</th>\n",
       "      <th>disburse_time_actual</th>\n",
       "      <th>raised_time_actual</th>\n",
       "      <th>disburse_to_posted_days</th>\n",
       "      <th>posted_to_raised_days</th>\n",
       "      <th>disbursed_to_raised_days</th>\n",
       "    </tr>\n",
       "  </thead>\n",
       "  <tbody>\n",
       "    <tr>\n",
       "      <th>0</th>\n",
       "      <td>441030</td>\n",
       "      <td>2012-06-21 07:42:19+00:00</td>\n",
       "      <td>2012-06-04 07:00:00+00:00</td>\n",
       "      <td>2012-06-23 01:36:24+00:00</td>\n",
       "      <td>17.0</td>\n",
       "      <td>1.0</td>\n",
       "      <td>18.0</td>\n",
       "    </tr>\n",
       "    <tr>\n",
       "      <th>1</th>\n",
       "      <td>442020</td>\n",
       "      <td>2012-06-22 07:02:18+00:00</td>\n",
       "      <td>2012-06-18 07:00:00+00:00</td>\n",
       "      <td>2012-06-26 06:48:54+00:00</td>\n",
       "      <td>4.0</td>\n",
       "      <td>3.0</td>\n",
       "      <td>7.0</td>\n",
       "    </tr>\n",
       "    <tr>\n",
       "      <th>2</th>\n",
       "      <td>1333356</td>\n",
       "      <td>2017-07-05 01:13:55+00:00</td>\n",
       "      <td>2017-06-23 07:00:00+00:00</td>\n",
       "      <td>2017-07-19 03:23:49+00:00</td>\n",
       "      <td>11.0</td>\n",
       "      <td>14.0</td>\n",
       "      <td>25.0</td>\n",
       "    </tr>\n",
       "    <tr>\n",
       "      <th>3</th>\n",
       "      <td>1317694</td>\n",
       "      <td>2017-06-11 07:33:52+00:00</td>\n",
       "      <td>2017-05-12 07:00:00+00:00</td>\n",
       "      <td>2017-07-16 07:43:47+00:00</td>\n",
       "      <td>30.0</td>\n",
       "      <td>35.0</td>\n",
       "      <td>65.0</td>\n",
       "    </tr>\n",
       "    <tr>\n",
       "      <th>4</th>\n",
       "      <td>1334422</td>\n",
       "      <td>2017-07-06 01:55:17+00:00</td>\n",
       "      <td>2017-06-27 07:00:00+00:00</td>\n",
       "      <td>2017-07-22 03:02:56+00:00</td>\n",
       "      <td>8.0</td>\n",
       "      <td>16.0</td>\n",
       "      <td>24.0</td>\n",
       "    </tr>\n",
       "  </tbody>\n",
       "</table>\n",
       "</div>"
      ],
      "text/plain": [
       "   loan_id        posted_time_actual      disburse_time_actual  \\\n",
       "0   441030 2012-06-21 07:42:19+00:00 2012-06-04 07:00:00+00:00   \n",
       "1   442020 2012-06-22 07:02:18+00:00 2012-06-18 07:00:00+00:00   \n",
       "2  1333356 2017-07-05 01:13:55+00:00 2017-06-23 07:00:00+00:00   \n",
       "3  1317694 2017-06-11 07:33:52+00:00 2017-05-12 07:00:00+00:00   \n",
       "4  1334422 2017-07-06 01:55:17+00:00 2017-06-27 07:00:00+00:00   \n",
       "\n",
       "         raised_time_actual  disburse_to_posted_days  posted_to_raised_days  \\\n",
       "0 2012-06-23 01:36:24+00:00                     17.0                    1.0   \n",
       "1 2012-06-26 06:48:54+00:00                      4.0                    3.0   \n",
       "2 2017-07-19 03:23:49+00:00                     11.0                   14.0   \n",
       "3 2017-07-16 07:43:47+00:00                     30.0                   35.0   \n",
       "4 2017-07-22 03:02:56+00:00                      8.0                   16.0   \n",
       "\n",
       "   disbursed_to_raised_days  \n",
       "0                      18.0  \n",
       "1                       7.0  \n",
       "2                      25.0  \n",
       "3                      65.0  \n",
       "4                      24.0  "
      ]
     },
     "execution_count": 20,
     "metadata": {},
     "output_type": "execute_result"
    }
   ],
   "source": [
    "days.head()"
   ]
  },
  {
   "cell_type": "code",
   "execution_count": 25,
   "metadata": {},
   "outputs": [
    {
     "data": {
      "text/plain": [
       "0          17.0\n",
       "1           4.0\n",
       "2          11.0\n",
       "3          30.0\n",
       "4           8.0\n",
       "5          12.0\n",
       "6          24.0\n",
       "7          26.0\n",
       "8          20.0\n",
       "9           8.0\n",
       "10         12.0\n",
       "11         23.0\n",
       "12         28.0\n",
       "13         19.0\n",
       "14         29.0\n",
       "15         15.0\n",
       "16         10.0\n",
       "17         26.0\n",
       "18         31.0\n",
       "19         28.0\n",
       "20         16.0\n",
       "21         12.0\n",
       "22         27.0\n",
       "23         13.0\n",
       "24          0.0\n",
       "25         28.0\n",
       "26         28.0\n",
       "27          4.0\n",
       "28          4.0\n",
       "29         29.0\n",
       "           ... \n",
       "1419577    11.0\n",
       "1419578    29.0\n",
       "1419579    19.0\n",
       "1419580   -11.0\n",
       "1419581    16.0\n",
       "1419582    15.0\n",
       "1419583     1.0\n",
       "1419584    13.0\n",
       "1419585    11.0\n",
       "1419586     0.0\n",
       "1419587    17.0\n",
       "1419588    17.0\n",
       "1419589    11.0\n",
       "1419590    14.0\n",
       "1419591    11.0\n",
       "1419592    25.0\n",
       "1419593    25.0\n",
       "1419594     8.0\n",
       "1419595    29.0\n",
       "1419596    25.0\n",
       "1419597    25.0\n",
       "1419598     9.0\n",
       "1419599     5.0\n",
       "1419600    27.0\n",
       "1419601     5.0\n",
       "1419602     1.0\n",
       "1419603    16.0\n",
       "1419604     5.0\n",
       "1419605    13.0\n",
       "1419606    19.0\n",
       "Name: disburse_to_posted_days, Length: 1419607, dtype: float64"
      ]
     },
     "execution_count": 25,
     "metadata": {},
     "output_type": "execute_result"
    }
   ],
   "source": [
    "days.disburse_to_posted_days"
   ]
  },
  {
   "cell_type": "code",
   "execution_count": 26,
   "metadata": {},
   "outputs": [
    {
     "data": {
      "text/plain": [
       " 29.0     77152\n",
       " 28.0     64553\n",
       " 27.0     62984\n",
       " 6.0      54100\n",
       " 0.0      53812\n",
       " 5.0      48467\n",
       " 7.0      47441\n",
       " 26.0     46321\n",
       " 13.0     46263\n",
       " 12.0     42418\n",
       " 30.0     41937\n",
       " 4.0      40639\n",
       " 20.0     39287\n",
       " 14.0     38779\n",
       " 11.0     37537\n",
       " 8.0      36455\n",
       " 3.0      36258\n",
       " 19.0     35617\n",
       " 1.0      35438\n",
       " 25.0     35096\n",
       " 10.0     35050\n",
       " 21.0     34409\n",
       " 2.0      34181\n",
       " 9.0      32956\n",
       " 18.0     31113\n",
       " 24.0     30218\n",
       " 15.0     29828\n",
       " 17.0     28751\n",
       " 16.0     28145\n",
       " 22.0     27692\n",
       "          ...  \n",
       "-293.0        1\n",
       " 82.0         1\n",
       "-286.0        1\n",
       "-287.0        1\n",
       "-290.0        1\n",
       "-254.0        1\n",
       " 76.0         1\n",
       "-427.0        1\n",
       "-219.0        1\n",
       "-338.0        1\n",
       " 116.0        1\n",
       "-307.0        1\n",
       "-234.0        1\n",
       " 117.0        1\n",
       "-236.0        1\n",
       " 89.0         1\n",
       "-238.0        1\n",
       "-404.0        1\n",
       "-392.0        1\n",
       "-243.0        1\n",
       " 79.0         1\n",
       "-245.0        1\n",
       " 61.0         1\n",
       " 75.0         1\n",
       "-249.0        1\n",
       "-418.0        1\n",
       "-304.0        1\n",
       "-340.0        1\n",
       "-257.0        1\n",
       "-406.0        1\n",
       "Name: disburse_to_posted_days, Length: 370, dtype: int64"
      ]
     },
     "execution_count": 26,
     "metadata": {},
     "output_type": "execute_result"
    }
   ],
   "source": [
    "days.disburse_to_posted_days.value_counts()"
   ]
  },
  {
   "cell_type": "code",
   "execution_count": 28,
   "metadata": {},
   "outputs": [
    {
     "data": {
      "text/plain": [
       "<matplotlib.axes._subplots.AxesSubplot at 0x1b0e5cc908>"
      ]
     },
     "execution_count": 28,
     "metadata": {},
     "output_type": "execute_result"
    },
    {
     "data": {
      "image/png": "[encoded data removed]",
      "text/plain": [
       "<Figure size 432x288 with 1 Axes>"
      ]
     },
     "metadata": {},
     "output_type": "display_data"
    }
   ],
   "source": [
    "days.disburse_to_posted_days.hist(bins = 20)"
   ]
  },
  {
   "cell_type": "code",
   "execution_count": 39,
   "metadata": {},
   "outputs": [],
   "source": [
    "days_adj = days.loc[days['disburse_to_posted_days'] >= 0]"
   ]
  },
  {
   "cell_type": "code",
   "execution_count": null,
   "metadata": {},
   "outputs": [],
   "source": []
  },
  {
   "cell_type": "code",
   "execution_count": 40,
   "metadata": {},
   "outputs": [
    {
     "data": {
      "text/html": [
       "<div>\n",
       "<style scoped>\n",
       "    .dataframe tbody tr th:only-of-type {\n",
       "        vertical-align: middle;\n",
       "    }\n",
       "\n",
       "    .dataframe tbody tr th {\n",
       "        vertical-align: top;\n",
       "    }\n",
       "\n",
       "    .dataframe thead th {\n",
       "        text-align: right;\n",
       "    }\n",
       "</style>\n",
       "<table border=\"1\" class=\"dataframe\">\n",
       "  <thead>\n",
       "    <tr style=\"text-align: right;\">\n",
       "      <th></th>\n",
       "      <th>loan_id</th>\n",
       "      <th>posted_time_actual</th>\n",
       "      <th>disburse_time_actual</th>\n",
       "      <th>raised_time_actual</th>\n",
       "      <th>disburse_to_posted_days</th>\n",
       "      <th>posted_to_raised_days</th>\n",
       "      <th>disbursed_to_raised_days</th>\n",
       "    </tr>\n",
       "  </thead>\n",
       "  <tbody>\n",
       "    <tr>\n",
       "      <th>0</th>\n",
       "      <td>441030</td>\n",
       "      <td>2012-06-21 07:42:19+00:00</td>\n",
       "      <td>2012-06-04 07:00:00+00:00</td>\n",
       "      <td>2012-06-23 01:36:24+00:00</td>\n",
       "      <td>17.0</td>\n",
       "      <td>1.0</td>\n",
       "      <td>18.0</td>\n",
       "    </tr>\n",
       "    <tr>\n",
       "      <th>1</th>\n",
       "      <td>442020</td>\n",
       "      <td>2012-06-22 07:02:18+00:00</td>\n",
       "      <td>2012-06-18 07:00:00+00:00</td>\n",
       "      <td>2012-06-26 06:48:54+00:00</td>\n",
       "      <td>4.0</td>\n",
       "      <td>3.0</td>\n",
       "      <td>7.0</td>\n",
       "    </tr>\n",
       "    <tr>\n",
       "      <th>2</th>\n",
       "      <td>1333356</td>\n",
       "      <td>2017-07-05 01:13:55+00:00</td>\n",
       "      <td>2017-06-23 07:00:00+00:00</td>\n",
       "      <td>2017-07-19 03:23:49+00:00</td>\n",
       "      <td>11.0</td>\n",
       "      <td>14.0</td>\n",
       "      <td>25.0</td>\n",
       "    </tr>\n",
       "    <tr>\n",
       "      <th>3</th>\n",
       "      <td>1317694</td>\n",
       "      <td>2017-06-11 07:33:52+00:00</td>\n",
       "      <td>2017-05-12 07:00:00+00:00</td>\n",
       "      <td>2017-07-16 07:43:47+00:00</td>\n",
       "      <td>30.0</td>\n",
       "      <td>35.0</td>\n",
       "      <td>65.0</td>\n",
       "    </tr>\n",
       "    <tr>\n",
       "      <th>4</th>\n",
       "      <td>1334422</td>\n",
       "      <td>2017-07-06 01:55:17+00:00</td>\n",
       "      <td>2017-06-27 07:00:00+00:00</td>\n",
       "      <td>2017-07-22 03:02:56+00:00</td>\n",
       "      <td>8.0</td>\n",
       "      <td>16.0</td>\n",
       "      <td>24.0</td>\n",
       "    </tr>\n",
       "  </tbody>\n",
       "</table>\n",
       "</div>"
      ],
      "text/plain": [
       "   loan_id        posted_time_actual      disburse_time_actual  \\\n",
       "0   441030 2012-06-21 07:42:19+00:00 2012-06-04 07:00:00+00:00   \n",
       "1   442020 2012-06-22 07:02:18+00:00 2012-06-18 07:00:00+00:00   \n",
       "2  1333356 2017-07-05 01:13:55+00:00 2017-06-23 07:00:00+00:00   \n",
       "3  1317694 2017-06-11 07:33:52+00:00 2017-05-12 07:00:00+00:00   \n",
       "4  1334422 2017-07-06 01:55:17+00:00 2017-06-27 07:00:00+00:00   \n",
       "\n",
       "         raised_time_actual  disburse_to_posted_days  posted_to_raised_days  \\\n",
       "0 2012-06-23 01:36:24+00:00                     17.0                    1.0   \n",
       "1 2012-06-26 06:48:54+00:00                      4.0                    3.0   \n",
       "2 2017-07-19 03:23:49+00:00                     11.0                   14.0   \n",
       "3 2017-07-16 07:43:47+00:00                     30.0                   35.0   \n",
       "4 2017-07-22 03:02:56+00:00                      8.0                   16.0   \n",
       "\n",
       "   disbursed_to_raised_days  \n",
       "0                      18.0  \n",
       "1                       7.0  \n",
       "2                      25.0  \n",
       "3                      65.0  \n",
       "4                      24.0  "
      ]
     },
     "execution_count": 40,
     "metadata": {},
     "output_type": "execute_result"
    }
   ],
   "source": [
    "days_adj.head()"
   ]
  },
  {
   "cell_type": "code",
   "execution_count": 41,
   "metadata": {},
   "outputs": [
    {
     "data": {
      "text/plain": [
       "<matplotlib.axes._subplots.AxesSubplot at 0x1b11d4af98>"
      ]
     },
     "execution_count": 41,
     "metadata": {},
     "output_type": "execute_result"
    },
    {
     "data": {
      "image/png": "[encoded data removed]",
      "text/plain": [
       "<Figure size 432x288 with 1 Axes>"
      ]
     },
     "metadata": {},
     "output_type": "display_data"
    }
   ],
   "source": [
    "days_adj.disburse_to_posted_days.hist()"
   ]
  },
  {
   "cell_type": "code",
   "execution_count": 33,
   "metadata": {},
   "outputs": [
    {
     "data": {
      "text/plain": [
       "0          17.0\n",
       "1           4.0\n",
       "2          11.0\n",
       "3          30.0\n",
       "4           8.0\n",
       "5          12.0\n",
       "6          24.0\n",
       "7          26.0\n",
       "8          20.0\n",
       "9           8.0\n",
       "10         12.0\n",
       "11         23.0\n",
       "12         28.0\n",
       "13         19.0\n",
       "14         29.0\n",
       "15         15.0\n",
       "16         10.0\n",
       "17         26.0\n",
       "18         31.0\n",
       "19         28.0\n",
       "20         16.0\n",
       "21         12.0\n",
       "22         27.0\n",
       "23         13.0\n",
       "24          0.0\n",
       "25         28.0\n",
       "26         28.0\n",
       "27          4.0\n",
       "28          4.0\n",
       "29         29.0\n",
       "           ... \n",
       "1419576    14.0\n",
       "1419577    11.0\n",
       "1419578    29.0\n",
       "1419579    19.0\n",
       "1419581    16.0\n",
       "1419582    15.0\n",
       "1419583     1.0\n",
       "1419584    13.0\n",
       "1419585    11.0\n",
       "1419586     0.0\n",
       "1419587    17.0\n",
       "1419588    17.0\n",
       "1419589    11.0\n",
       "1419590    14.0\n",
       "1419591    11.0\n",
       "1419592    25.0\n",
       "1419593    25.0\n",
       "1419594     8.0\n",
       "1419595    29.0\n",
       "1419596    25.0\n",
       "1419597    25.0\n",
       "1419598     9.0\n",
       "1419599     5.0\n",
       "1419600    27.0\n",
       "1419601     5.0\n",
       "1419602     1.0\n",
       "1419603    16.0\n",
       "1419604     5.0\n",
       "1419605    13.0\n",
       "1419606    19.0\n",
       "Name: disburse_to_posted_days, Length: 1278384, dtype: float64"
      ]
     },
     "execution_count": 33,
     "metadata": {},
     "output_type": "execute_result"
    }
   ],
   "source": [
    "days_adj.disburse_to_posted_days"
   ]
  },
  {
   "cell_type": "code",
   "execution_count": null,
   "metadata": {},
   "outputs": [],
   "source": []
  },
  {
   "cell_type": "code",
   "execution_count": null,
   "metadata": {},
   "outputs": [],
   "source": []
  },
  {
   "cell_type": "code",
   "execution_count": null,
   "metadata": {},
   "outputs": [],
   "source": []
  }
 ],
 "metadata": {
  "kernelspec": {
   "display_name": "Python 3",
   "language": "python",
   "name": "python3"
  },
  "language_info": {
   "codemirror_mode": {
    "name": "ipython",
    "version": 3
   },
   "file_extension": ".py",
   "mimetype": "text/x-python",
   "name": "python",
   "nbconvert_exporter": "python",
   "pygments_lexer": "ipython3",
   "version": "3.6.5"
  }
 },
 "nbformat": 4,
 "nbformat_minor": 2
}
