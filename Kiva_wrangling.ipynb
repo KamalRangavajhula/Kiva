{
 "cells": [
  {
   "cell_type": "code",
   "execution_count": 4,
   "metadata": {},
   "outputs": [],
   "source": [
    "from sqlalchemy import create_engine\n",
    "import pandas as pd\n",
    "import numpy as np\n",
    "from config import dbconfig"
   ]
  },
  {
   "cell_type": "code",
   "execution_count": null,
   "metadata": {},
   "outputs": [],
   "source": [
    "#creating full_loans data set from database\n",
    "engine = create_engine(dbconfig.aws_connection_string)\n",
    "days = pd.read_sql_query(\"SELECT * FROM loan_dates\", engine)\n",
    "loans = pd.read_sql_query(\"SELECT * FROM loans\", engine)\n",
    "partners = pd.read_sql_query(\"SELECT * FROM partners\", engine)\n",
    "loans_days = pd.merge(loans, days, how = 'left', on = 'loan_id')\n",
    "partners = partners.rename(columns = {\"id\": \"partner_id\"})\n",
    "full_loans = pd.merge(loans_days, partners, how = \"left\", on = \"partner_id\", suffixes=(\"_loans\", \"_partners\"))"
   ]
  },
  {
   "cell_type": "code",
   "execution_count": null,
   "metadata": {},
   "outputs": [],
   "source": [
    "# creating a subset only with field partner loans\n",
    "fl_subset = full_loans[full_loans.distribution_model == \"field_partner\"]"
   ]
  },
  {
   "cell_type": "code",
   "execution_count": null,
   "metadata": {},
   "outputs": [],
   "source": [
    "#creating a new binary variable that is 0 if the loan was succesfully funded and 1 otherwise\n",
    "fl_subset[\"status_loans_bi\"] = np.where(fl_subset[\"status_loan\"]==\"funded\", 0, 1)"
   ]
  },
  {
   "cell_type": "code",
   "execution_count": null,
   "metadata": {},
   "outputs": [],
   "source": [
    "#Cleaning data set to select only funded loans and get rid of negative values in posted_to_raised_days\n",
    "fl_subset_cl = fl_subset[fl_subset.status_loans_bi == 0]\n",
    "fl_subset_cl = fl_subset_cl[fl_subset_cl.posted_to_raised_days >= 0]"
   ]
  },
  {
   "cell_type": "code",
   "execution_count": null,
   "metadata": {},
   "outputs": [],
   "source": [
    "#Creating variables\n",
    "fl_subset_cl['description_count'] = fl_subset_cl['description'].str.len()\n",
    "fl_subset_cl[\"video_bi\"] = np.where(fl_subset_cl[\"video_id\"].isnull() == True, 0, 1)\n",
    "fl_subset_cl[\"image_bi\"] = np.where(fl_subset_cl[\"image_id\"].isnull() == True, 0, 1)\n",
    "fl_subset_cl[\"tags_bi\"] = np.where(fl_subset_cl[\"tags\"].isnull() == True, 0, 1)\n",
    "fl_subset_cl[\"names_bi\"] = np.where(fl_subset_cl[\"borrower_names\"].isnull() == True, 0, 1)\n",
    "fl_subset_cl[\"repayment_interval_bi\"] = np.where(fl_subset_cl[\"repayment_interval\"] == \"monthly\", 0, 1)"
   ]
  },
  {
   "cell_type": "code",
   "execution_count": null,
   "metadata": {},
   "outputs": [],
   "source": [
    "#Creating variable for Gender (from Tom's code)\n",
    "fl_subset_cl['num_borrowers_female'] = fl_subset_cl['borrower_genders'].str.count('female')\n",
    "fl_subset_cl['num_borrowers_male'] = fl_subset_cl['borrower_genders'].str.count('^male') + fl_subset_cl['borrower_genders'].str.count('\\, male')\n",
    "fl_subset_cl['num_borrowers'] = fl_subset_cl['num_borrowers_female']+fl_subset_cl['num_borrowers_male']\n",
    "fl_subset_cl['num_borrowers_female_pct'] = (fl_subset_cl['num_borrowers_female']*1.00)/fl_subset_cl['num_borrowers']"
   ]
  }
 ],
 "metadata": {
  "kernelspec": {
   "display_name": "Python 3",
   "language": "python",
   "name": "python3"
  },
  "language_info": {
   "codemirror_mode": {
    "name": "ipython",
    "version": 3
   },
   "file_extension": ".py",
   "mimetype": "text/x-python",
   "name": "python",
   "nbconvert_exporter": "python",
   "pygments_lexer": "ipython3",
   "version": "3.6.5"
  }
 },
 "nbformat": 4,
 "nbformat_minor": 2
}
