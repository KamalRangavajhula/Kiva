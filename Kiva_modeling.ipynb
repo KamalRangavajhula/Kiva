{
 "cells": [
  {
   "cell_type": "code",
   "execution_count": 9,
   "metadata": {},
   "outputs": [],
   "source": [
    "import pandas as pd\n",
    "import matplotlib.pyplot as plt\n",
    "%matplotlib inline\n",
    "import seaborn as sns\n",
    "sns.set_style(\"whitegrid\")"
   ]
  },
  {
   "cell_type": "code",
   "execution_count": null,
   "metadata": {},
   "outputs": [],
   "source": [
    "from Ingestion.kivadataloader import KivaDataLoader\n",
    "import pandas as pd\n",
    "\n",
    "m = KivaDataLoader()\n",
    "cleaneduploans = m.get_clean_dataframe()"
   ]
  },
  {
   "cell_type": "code",
   "execution_count": 5,
   "metadata": {},
   "outputs": [
    {
     "data": {
      "text/plain": [
       "(1170548, 66)"
      ]
     },
     "execution_count": 5,
     "metadata": {},
     "output_type": "execute_result"
    }
   ],
   "source": [
    "cleaneduploans.shape"
   ]
  },
  {
   "cell_type": "markdown",
   "metadata": {},
   "source": [
    "# Target and Features"
   ]
  },
  {
   "cell_type": "code",
   "execution_count": 15,
   "metadata": {},
   "outputs": [],
   "source": [
    "#Target\n",
    "y = cleaneduploans['posted_to_raised_days']"
   ]
  },
  {
   "cell_type": "code",
   "execution_count": 77,
   "metadata": {},
   "outputs": [],
   "source": [
    "yb = cleaneduploans['posted_to_raised_bins']"
   ]
  },
  {
   "cell_type": "code",
   "execution_count": 18,
   "metadata": {},
   "outputs": [
    {
     "data": {
      "text/plain": [
       "(1170548,)"
      ]
     },
     "execution_count": 18,
     "metadata": {},
     "output_type": "execute_result"
    }
   ],
   "source": [
    "y.shape"
   ]
  },
  {
   "cell_type": "code",
   "execution_count": 78,
   "metadata": {},
   "outputs": [
    {
     "data": {
      "text/plain": [
       "(1170548,)"
      ]
     },
     "execution_count": 78,
     "metadata": {},
     "output_type": "execute_result"
    }
   ],
   "source": [
    "yb.shape"
   ]
  },
  {
   "cell_type": "code",
   "execution_count": 182,
   "metadata": {},
   "outputs": [],
   "source": [
    "#Features\n",
    "X = cleaneduploans.drop(['posted_to_raised_days', 'posted_to_raised_bins', 'disburse_to_posted_days','disbursed_to_raised_days','partner_id'], axis=1)"
   ]
  },
  {
   "cell_type": "code",
   "execution_count": 157,
   "metadata": {},
   "outputs": [
    {
     "data": {
      "text/plain": [
       "(1170548, 61)"
      ]
     },
     "execution_count": 157,
     "metadata": {},
     "output_type": "execute_result"
    }
   ],
   "source": [
    "X.shape"
   ]
  },
  {
   "cell_type": "code",
   "execution_count": 158,
   "metadata": {},
   "outputs": [
    {
     "data": {
      "text/plain": [
       "loan_id                                                      int64\n",
       "loan_name                                                   object\n",
       "language_english                                             int64\n",
       "description_length                                         float64\n",
       "funded_amount                                              float64\n",
       "loan_amount                                                float64\n",
       "status_loans                                                object\n",
       "loan_image_provided                                          int64\n",
       "loan_video_provided                                          int64\n",
       "activity_name                                               object\n",
       "loan_use_length                                            float64\n",
       "country_code                                                object\n",
       "country_name                                                object\n",
       "currency_policy                                             object\n",
       "currency_exchange_coverage_rate                            float64\n",
       "currency                                                    object\n",
       "currency_usd                                                 int64\n",
       "planned_expiration_time                                     object\n",
       "num_journal_entries                                          int64\n",
       "num_bulk_entries                                             int64\n",
       "tags_exist                                                   int64\n",
       "borrower_genders                                            object\n",
       "atleast1_borrower_pictured                                   int64\n",
       "posted_time_actual                             datetime64[ns, UTC]\n",
       "partner_status                                              object\n",
       "partner_rating                                              object\n",
       "parner_start_date                                           object\n",
       "partner_delinquency_rate                                    object\n",
       "partner_default_rate                                        object\n",
       "partner_total_amount_raised                                  int64\n",
       "                                                      ...         \n",
       "partner_charges_fees_and_interest                            int64\n",
       "partner_avg_loan_size_pct_per_capita_income                 object\n",
       "partner_loans_at_risk_rate                                 float64\n",
       "partner_loans_at_risk_rate                                  object\n",
       "partner_url_length                                           int64\n",
       "partner_portfolio_yield                                    float64\n",
       "partner_profitability                                      float64\n",
       "num_borrowers_female                                         int64\n",
       "num_borrowers_male                                           int64\n",
       "num_borrowers                                                int64\n",
       "num_borrowers_female_pct                                   float64\n",
       "sector_name_Agriculture                                      uint8\n",
       "sector_name_Arts                                             uint8\n",
       "sector_name_Clothing                                         uint8\n",
       "sector_name_Construction                                     uint8\n",
       "sector_name_Education                                        uint8\n",
       "sector_name_Entertainment                                    uint8\n",
       "sector_name_Food                                             uint8\n",
       "sector_name_Health                                           uint8\n",
       "sector_name_Housing                                          uint8\n",
       "sector_name_Manufacturing                                    uint8\n",
       "sector_name_Personal Use                                     uint8\n",
       "sector_name_Retail                                           uint8\n",
       "sector_name_Services                                         uint8\n",
       "sector_name_Transportation                                   uint8\n",
       "sector_name_Wholesale                                        uint8\n",
       "distribution_model_field_partner                             uint8\n",
       "repayment_interval_bullet                                    uint8\n",
       "repayment_interval_irregular                                 uint8\n",
       "repayment_interval_monthly                                   uint8\n",
       "Length: 61, dtype: object"
      ]
     },
     "execution_count": 158,
     "metadata": {},
     "output_type": "execute_result"
    }
   ],
   "source": [
    "X.dtypes"
   ]
  },
  {
   "cell_type": "code",
   "execution_count": 183,
   "metadata": {},
   "outputs": [],
   "source": [
    "#To keep only numeric variables\n",
    "X = X.select_dtypes(exclude=['object','datetime64[ns, UTC]'])"
   ]
  },
  {
   "cell_type": "code",
   "execution_count": 160,
   "metadata": {},
   "outputs": [
    {
     "data": {
      "text/plain": [
       "(1170548, 44)"
      ]
     },
     "execution_count": 160,
     "metadata": {},
     "output_type": "execute_result"
    }
   ],
   "source": [
    "X.shape"
   ]
  },
  {
   "cell_type": "code",
   "execution_count": 161,
   "metadata": {},
   "outputs": [
    {
     "data": {
      "text/html": [
       "<div>\n",
       "<style scoped>\n",
       "    .dataframe tbody tr th:only-of-type {\n",
       "        vertical-align: middle;\n",
       "    }\n",
       "\n",
       "    .dataframe tbody tr th {\n",
       "        vertical-align: top;\n",
       "    }\n",
       "\n",
       "    .dataframe thead th {\n",
       "        text-align: right;\n",
       "    }\n",
       "</style>\n",
       "<table border=\"1\" class=\"dataframe\">\n",
       "  <thead>\n",
       "    <tr style=\"text-align: right;\">\n",
       "      <th></th>\n",
       "      <th>loan_id</th>\n",
       "      <th>language_english</th>\n",
       "      <th>description_length</th>\n",
       "      <th>funded_amount</th>\n",
       "      <th>loan_amount</th>\n",
       "      <th>loan_image_provided</th>\n",
       "      <th>loan_video_provided</th>\n",
       "      <th>loan_use_length</th>\n",
       "      <th>currency_exchange_coverage_rate</th>\n",
       "      <th>currency_usd</th>\n",
       "      <th>...</th>\n",
       "      <th>sector_name_Manufacturing</th>\n",
       "      <th>sector_name_Personal Use</th>\n",
       "      <th>sector_name_Retail</th>\n",
       "      <th>sector_name_Services</th>\n",
       "      <th>sector_name_Transportation</th>\n",
       "      <th>sector_name_Wholesale</th>\n",
       "      <th>distribution_model_field_partner</th>\n",
       "      <th>repayment_interval_bullet</th>\n",
       "      <th>repayment_interval_irregular</th>\n",
       "      <th>repayment_interval_monthly</th>\n",
       "    </tr>\n",
       "  </thead>\n",
       "  <tbody>\n",
       "    <tr>\n",
       "      <th>count</th>\n",
       "      <td>1.170548e+06</td>\n",
       "      <td>1.170548e+06</td>\n",
       "      <td>1.170522e+06</td>\n",
       "      <td>1.170548e+06</td>\n",
       "      <td>1.170548e+06</td>\n",
       "      <td>1170548.0</td>\n",
       "      <td>1.170548e+06</td>\n",
       "      <td>1.170532e+06</td>\n",
       "      <td>906683.000000</td>\n",
       "      <td>1.170548e+06</td>\n",
       "      <td>...</td>\n",
       "      <td>1.170548e+06</td>\n",
       "      <td>1.170548e+06</td>\n",
       "      <td>1.170548e+06</td>\n",
       "      <td>1.170548e+06</td>\n",
       "      <td>1.170548e+06</td>\n",
       "      <td>1.170548e+06</td>\n",
       "      <td>1170548.0</td>\n",
       "      <td>1.170548e+06</td>\n",
       "      <td>1.170548e+06</td>\n",
       "      <td>1.170548e+06</td>\n",
       "    </tr>\n",
       "    <tr>\n",
       "      <th>mean</th>\n",
       "      <td>7.045821e+05</td>\n",
       "      <td>6.886971e-01</td>\n",
       "      <td>7.550053e+02</td>\n",
       "      <td>7.549700e+02</td>\n",
       "      <td>7.549698e+02</td>\n",
       "      <td>1.0</td>\n",
       "      <td>4.032299e-04</td>\n",
       "      <td>5.368858e+01</td>\n",
       "      <td>0.118012</td>\n",
       "      <td>1.555049e-01</td>\n",
       "      <td>...</td>\n",
       "      <td>1.289738e-02</td>\n",
       "      <td>3.849735e-02</td>\n",
       "      <td>2.001703e-01</td>\n",
       "      <td>6.985104e-02</td>\n",
       "      <td>2.571787e-02</td>\n",
       "      <td>1.587291e-03</td>\n",
       "      <td>1.0</td>\n",
       "      <td>6.880196e-02</td>\n",
       "      <td>4.130074e-01</td>\n",
       "      <td>5.181906e-01</td>\n",
       "    </tr>\n",
       "    <tr>\n",
       "      <th>std</th>\n",
       "      <td>4.220334e+05</td>\n",
       "      <td>4.630266e-01</td>\n",
       "      <td>4.045051e+02</td>\n",
       "      <td>9.800246e+02</td>\n",
       "      <td>9.800240e+02</td>\n",
       "      <td>0.0</td>\n",
       "      <td>2.007655e-02</td>\n",
       "      <td>2.817352e+01</td>\n",
       "      <td>0.038429</td>\n",
       "      <td>3.623855e-01</td>\n",
       "      <td>...</td>\n",
       "      <td>1.128319e-01</td>\n",
       "      <td>1.923937e-01</td>\n",
       "      <td>4.001279e-01</td>\n",
       "      <td>2.548959e-01</td>\n",
       "      <td>1.582924e-01</td>\n",
       "      <td>3.980920e-02</td>\n",
       "      <td>0.0</td>\n",
       "      <td>2.531172e-01</td>\n",
       "      <td>4.923743e-01</td>\n",
       "      <td>4.996692e-01</td>\n",
       "    </tr>\n",
       "    <tr>\n",
       "      <th>min</th>\n",
       "      <td>3.080000e+02</td>\n",
       "      <td>0.000000e+00</td>\n",
       "      <td>1.000000e+00</td>\n",
       "      <td>2.500000e+01</td>\n",
       "      <td>2.500000e+01</td>\n",
       "      <td>1.0</td>\n",
       "      <td>0.000000e+00</td>\n",
       "      <td>1.000000e+00</td>\n",
       "      <td>0.100000</td>\n",
       "      <td>0.000000e+00</td>\n",
       "      <td>...</td>\n",
       "      <td>0.000000e+00</td>\n",
       "      <td>0.000000e+00</td>\n",
       "      <td>0.000000e+00</td>\n",
       "      <td>0.000000e+00</td>\n",
       "      <td>0.000000e+00</td>\n",
       "      <td>0.000000e+00</td>\n",
       "      <td>1.0</td>\n",
       "      <td>0.000000e+00</td>\n",
       "      <td>0.000000e+00</td>\n",
       "      <td>0.000000e+00</td>\n",
       "    </tr>\n",
       "    <tr>\n",
       "      <th>25%</th>\n",
       "      <td>3.300058e+05</td>\n",
       "      <td>0.000000e+00</td>\n",
       "      <td>4.910000e+02</td>\n",
       "      <td>2.750000e+02</td>\n",
       "      <td>2.750000e+02</td>\n",
       "      <td>1.0</td>\n",
       "      <td>0.000000e+00</td>\n",
       "      <td>3.400000e+01</td>\n",
       "      <td>0.100000</td>\n",
       "      <td>0.000000e+00</td>\n",
       "      <td>...</td>\n",
       "      <td>0.000000e+00</td>\n",
       "      <td>0.000000e+00</td>\n",
       "      <td>0.000000e+00</td>\n",
       "      <td>0.000000e+00</td>\n",
       "      <td>0.000000e+00</td>\n",
       "      <td>0.000000e+00</td>\n",
       "      <td>1.0</td>\n",
       "      <td>0.000000e+00</td>\n",
       "      <td>0.000000e+00</td>\n",
       "      <td>0.000000e+00</td>\n",
       "    </tr>\n",
       "    <tr>\n",
       "      <th>50%</th>\n",
       "      <td>6.848595e+05</td>\n",
       "      <td>1.000000e+00</td>\n",
       "      <td>6.450000e+02</td>\n",
       "      <td>4.750000e+02</td>\n",
       "      <td>4.750000e+02</td>\n",
       "      <td>1.0</td>\n",
       "      <td>0.000000e+00</td>\n",
       "      <td>4.800000e+01</td>\n",
       "      <td>0.100000</td>\n",
       "      <td>0.000000e+00</td>\n",
       "      <td>...</td>\n",
       "      <td>0.000000e+00</td>\n",
       "      <td>0.000000e+00</td>\n",
       "      <td>0.000000e+00</td>\n",
       "      <td>0.000000e+00</td>\n",
       "      <td>0.000000e+00</td>\n",
       "      <td>0.000000e+00</td>\n",
       "      <td>1.0</td>\n",
       "      <td>0.000000e+00</td>\n",
       "      <td>0.000000e+00</td>\n",
       "      <td>1.000000e+00</td>\n",
       "    </tr>\n",
       "    <tr>\n",
       "      <th>75%</th>\n",
       "      <td>1.066568e+06</td>\n",
       "      <td>1.000000e+00</td>\n",
       "      <td>8.930000e+02</td>\n",
       "      <td>9.000000e+02</td>\n",
       "      <td>9.000000e+02</td>\n",
       "      <td>1.0</td>\n",
       "      <td>0.000000e+00</td>\n",
       "      <td>6.800000e+01</td>\n",
       "      <td>0.100000</td>\n",
       "      <td>0.000000e+00</td>\n",
       "      <td>...</td>\n",
       "      <td>0.000000e+00</td>\n",
       "      <td>0.000000e+00</td>\n",
       "      <td>0.000000e+00</td>\n",
       "      <td>0.000000e+00</td>\n",
       "      <td>0.000000e+00</td>\n",
       "      <td>0.000000e+00</td>\n",
       "      <td>1.0</td>\n",
       "      <td>0.000000e+00</td>\n",
       "      <td>1.000000e+00</td>\n",
       "      <td>1.000000e+00</td>\n",
       "    </tr>\n",
       "    <tr>\n",
       "      <th>max</th>\n",
       "      <td>1.444068e+06</td>\n",
       "      <td>1.000000e+00</td>\n",
       "      <td>1.161000e+04</td>\n",
       "      <td>1.000000e+05</td>\n",
       "      <td>1.000000e+05</td>\n",
       "      <td>1.0</td>\n",
       "      <td>1.000000e+00</td>\n",
       "      <td>2.149000e+03</td>\n",
       "      <td>0.200000</td>\n",
       "      <td>1.000000e+00</td>\n",
       "      <td>...</td>\n",
       "      <td>1.000000e+00</td>\n",
       "      <td>1.000000e+00</td>\n",
       "      <td>1.000000e+00</td>\n",
       "      <td>1.000000e+00</td>\n",
       "      <td>1.000000e+00</td>\n",
       "      <td>1.000000e+00</td>\n",
       "      <td>1.0</td>\n",
       "      <td>1.000000e+00</td>\n",
       "      <td>1.000000e+00</td>\n",
       "      <td>1.000000e+00</td>\n",
       "    </tr>\n",
       "  </tbody>\n",
       "</table>\n",
       "<p>8 rows × 44 columns</p>\n",
       "</div>"
      ],
      "text/plain": [
       "            loan_id  language_english  description_length  funded_amount  \\\n",
       "count  1.170548e+06      1.170548e+06        1.170522e+06   1.170548e+06   \n",
       "mean   7.045821e+05      6.886971e-01        7.550053e+02   7.549700e+02   \n",
       "std    4.220334e+05      4.630266e-01        4.045051e+02   9.800246e+02   \n",
       "min    3.080000e+02      0.000000e+00        1.000000e+00   2.500000e+01   \n",
       "25%    3.300058e+05      0.000000e+00        4.910000e+02   2.750000e+02   \n",
       "50%    6.848595e+05      1.000000e+00        6.450000e+02   4.750000e+02   \n",
       "75%    1.066568e+06      1.000000e+00        8.930000e+02   9.000000e+02   \n",
       "max    1.444068e+06      1.000000e+00        1.161000e+04   1.000000e+05   \n",
       "\n",
       "        loan_amount  loan_image_provided  loan_video_provided  \\\n",
       "count  1.170548e+06            1170548.0         1.170548e+06   \n",
       "mean   7.549698e+02                  1.0         4.032299e-04   \n",
       "std    9.800240e+02                  0.0         2.007655e-02   \n",
       "min    2.500000e+01                  1.0         0.000000e+00   \n",
       "25%    2.750000e+02                  1.0         0.000000e+00   \n",
       "50%    4.750000e+02                  1.0         0.000000e+00   \n",
       "75%    9.000000e+02                  1.0         0.000000e+00   \n",
       "max    1.000000e+05                  1.0         1.000000e+00   \n",
       "\n",
       "       loan_use_length  currency_exchange_coverage_rate  currency_usd  \\\n",
       "count     1.170532e+06                    906683.000000  1.170548e+06   \n",
       "mean      5.368858e+01                         0.118012  1.555049e-01   \n",
       "std       2.817352e+01                         0.038429  3.623855e-01   \n",
       "min       1.000000e+00                         0.100000  0.000000e+00   \n",
       "25%       3.400000e+01                         0.100000  0.000000e+00   \n",
       "50%       4.800000e+01                         0.100000  0.000000e+00   \n",
       "75%       6.800000e+01                         0.100000  0.000000e+00   \n",
       "max       2.149000e+03                         0.200000  1.000000e+00   \n",
       "\n",
       "                  ...              sector_name_Manufacturing  \\\n",
       "count             ...                           1.170548e+06   \n",
       "mean              ...                           1.289738e-02   \n",
       "std               ...                           1.128319e-01   \n",
       "min               ...                           0.000000e+00   \n",
       "25%               ...                           0.000000e+00   \n",
       "50%               ...                           0.000000e+00   \n",
       "75%               ...                           0.000000e+00   \n",
       "max               ...                           1.000000e+00   \n",
       "\n",
       "       sector_name_Personal Use  sector_name_Retail  sector_name_Services  \\\n",
       "count              1.170548e+06        1.170548e+06          1.170548e+06   \n",
       "mean               3.849735e-02        2.001703e-01          6.985104e-02   \n",
       "std                1.923937e-01        4.001279e-01          2.548959e-01   \n",
       "min                0.000000e+00        0.000000e+00          0.000000e+00   \n",
       "25%                0.000000e+00        0.000000e+00          0.000000e+00   \n",
       "50%                0.000000e+00        0.000000e+00          0.000000e+00   \n",
       "75%                0.000000e+00        0.000000e+00          0.000000e+00   \n",
       "max                1.000000e+00        1.000000e+00          1.000000e+00   \n",
       "\n",
       "       sector_name_Transportation  sector_name_Wholesale  \\\n",
       "count                1.170548e+06           1.170548e+06   \n",
       "mean                 2.571787e-02           1.587291e-03   \n",
       "std                  1.582924e-01           3.980920e-02   \n",
       "min                  0.000000e+00           0.000000e+00   \n",
       "25%                  0.000000e+00           0.000000e+00   \n",
       "50%                  0.000000e+00           0.000000e+00   \n",
       "75%                  0.000000e+00           0.000000e+00   \n",
       "max                  1.000000e+00           1.000000e+00   \n",
       "\n",
       "       distribution_model_field_partner  repayment_interval_bullet  \\\n",
       "count                         1170548.0               1.170548e+06   \n",
       "mean                                1.0               6.880196e-02   \n",
       "std                                 0.0               2.531172e-01   \n",
       "min                                 1.0               0.000000e+00   \n",
       "25%                                 1.0               0.000000e+00   \n",
       "50%                                 1.0               0.000000e+00   \n",
       "75%                                 1.0               0.000000e+00   \n",
       "max                                 1.0               1.000000e+00   \n",
       "\n",
       "       repayment_interval_irregular  repayment_interval_monthly  \n",
       "count                  1.170548e+06                1.170548e+06  \n",
       "mean                   4.130074e-01                5.181906e-01  \n",
       "std                    4.923743e-01                4.996692e-01  \n",
       "min                    0.000000e+00                0.000000e+00  \n",
       "25%                    0.000000e+00                0.000000e+00  \n",
       "50%                    0.000000e+00                1.000000e+00  \n",
       "75%                    1.000000e+00                1.000000e+00  \n",
       "max                    1.000000e+00                1.000000e+00  \n",
       "\n",
       "[8 rows x 44 columns]"
      ]
     },
     "execution_count": 161,
     "metadata": {},
     "output_type": "execute_result"
    }
   ],
   "source": [
    "X.describe()"
   ]
  },
  {
   "cell_type": "code",
   "execution_count": 162,
   "metadata": {},
   "outputs": [
    {
     "name": "stdout",
     "output_type": "stream",
     "text": [
      "loan_id                                   0\n",
      "language_english                          0\n",
      "description_length                       26\n",
      "funded_amount                             0\n",
      "loan_amount                               0\n",
      "loan_image_provided                       0\n",
      "loan_video_provided                       0\n",
      "loan_use_length                          16\n",
      "currency_exchange_coverage_rate      263865\n",
      "currency_usd                              0\n",
      "num_journal_entries                       0\n",
      "num_bulk_entries                          0\n",
      "tags_exist                                0\n",
      "atleast1_borrower_pictured                0\n",
      "partner_total_amount_raised               0\n",
      "partner_loans_posted                      0\n",
      "partner_charges_fees_and_interest         0\n",
      "partner_loans_at_risk_rate                0\n",
      "partner_url_length                        0\n",
      "partner_portfolio_yield               87165\n",
      "partner_profitability                102336\n",
      "num_borrowers_female                      0\n",
      "num_borrowers_male                        0\n",
      "num_borrowers                             0\n",
      "num_borrowers_female_pct                  0\n",
      "sector_name_Agriculture                   0\n",
      "sector_name_Arts                          0\n",
      "sector_name_Clothing                      0\n",
      "sector_name_Construction                  0\n",
      "sector_name_Education                     0\n",
      "sector_name_Entertainment                 0\n",
      "sector_name_Food                          0\n",
      "sector_name_Health                        0\n",
      "sector_name_Housing                       0\n",
      "sector_name_Manufacturing                 0\n",
      "sector_name_Personal Use                  0\n",
      "sector_name_Retail                        0\n",
      "sector_name_Services                      0\n",
      "sector_name_Transportation                0\n",
      "sector_name_Wholesale                     0\n",
      "distribution_model_field_partner          0\n",
      "repayment_interval_bullet                 0\n",
      "repayment_interval_irregular              0\n",
      "repayment_interval_monthly                0\n",
      "dtype: int64\n"
     ]
    }
   ],
   "source": [
    "print(X.isnull().sum())"
   ]
  },
  {
   "cell_type": "code",
   "execution_count": 184,
   "metadata": {},
   "outputs": [],
   "source": [
    "#Replace nan values with 0 for description lenght \n",
    "#and average of columns for loan use lenght\n",
    "X['description_length'].fillna(0,inplace=True)\n",
    "X['loan_use_length'].fillna(X['loan_use_length'].mean(),inplace=True)"
   ]
  },
  {
   "cell_type": "code",
   "execution_count": 185,
   "metadata": {},
   "outputs": [],
   "source": [
    "#Remove columns with nan values (the remaining three features have large amount of missing values and are related to field partner - which in previous analysis show to be less relevant) \n",
    "X.dropna(axis=1, inplace=True)"
   ]
  },
  {
   "cell_type": "code",
   "execution_count": 165,
   "metadata": {},
   "outputs": [
    {
     "name": "stdout",
     "output_type": "stream",
     "text": [
      "loan_id                              0\n",
      "language_english                     0\n",
      "description_length                   0\n",
      "funded_amount                        0\n",
      "loan_amount                          0\n",
      "loan_image_provided                  0\n",
      "loan_video_provided                  0\n",
      "loan_use_length                      0\n",
      "currency_usd                         0\n",
      "num_journal_entries                  0\n",
      "num_bulk_entries                     0\n",
      "tags_exist                           0\n",
      "atleast1_borrower_pictured           0\n",
      "partner_total_amount_raised          0\n",
      "partner_loans_posted                 0\n",
      "partner_charges_fees_and_interest    0\n",
      "partner_loans_at_risk_rate           0\n",
      "partner_url_length                   0\n",
      "num_borrowers_female                 0\n",
      "num_borrowers_male                   0\n",
      "num_borrowers                        0\n",
      "num_borrowers_female_pct             0\n",
      "sector_name_Agriculture              0\n",
      "sector_name_Arts                     0\n",
      "sector_name_Clothing                 0\n",
      "sector_name_Construction             0\n",
      "sector_name_Education                0\n",
      "sector_name_Entertainment            0\n",
      "sector_name_Food                     0\n",
      "sector_name_Health                   0\n",
      "sector_name_Housing                  0\n",
      "sector_name_Manufacturing            0\n",
      "sector_name_Personal Use             0\n",
      "sector_name_Retail                   0\n",
      "sector_name_Services                 0\n",
      "sector_name_Transportation           0\n",
      "sector_name_Wholesale                0\n",
      "distribution_model_field_partner     0\n",
      "repayment_interval_bullet            0\n",
      "repayment_interval_irregular         0\n",
      "repayment_interval_monthly           0\n",
      "dtype: int64\n"
     ]
    }
   ],
   "source": [
    "print(X.isnull().sum())"
   ]
  },
  {
   "cell_type": "code",
   "execution_count": 186,
   "metadata": {},
   "outputs": [
    {
     "data": {
      "text/plain": [
       "(1170548, 41)"
      ]
     },
     "execution_count": 186,
     "metadata": {},
     "output_type": "execute_result"
    }
   ],
   "source": [
    "X.shape"
   ]
  },
  {
   "cell_type": "code",
   "execution_count": 166,
   "metadata": {},
   "outputs": [],
   "source": [
    "from sklearn.decomposition import PCA\n",
    "from sklearn.feature_selection import SelectFromModel\n",
    "from sklearn.linear_model import Ridge, Lasso, ElasticNet\n",
    "from sklearn.discriminant_analysis import LinearDiscriminantAnalysis as LDA"
   ]
  },
  {
   "cell_type": "code",
   "execution_count": 167,
   "metadata": {},
   "outputs": [
    {
     "name": "stdout",
     "output_type": "stream",
     "text": [
      "['description_length', 'funded_amount', 'loan_use_length', 'partner_loans_at_risk_rate', 'num_borrowers_female']\n"
     ]
    }
   ],
   "source": [
    "model = Lasso()\n",
    "sfm = SelectFromModel(model)\n",
    "sfm.fit(X, y)\n",
    "print(list(X.iloc[:, sfm.get_support(indices=True)]))"
   ]
  },
  {
   "cell_type": "code",
   "execution_count": 168,
   "metadata": {},
   "outputs": [
    {
     "name": "stdout",
     "output_type": "stream",
     "text": [
      "['description_length', 'funded_amount', 'loan_use_length', 'partner_loans_at_risk_rate', 'num_borrowers_female']\n"
     ]
    }
   ],
   "source": [
    "model = Lasso()\n",
    "sfm = SelectFromModel(model)\n",
    "sfm.fit(X, y)\n",
    "print(list(X.iloc[:, sfm.get_support(indices=True)]))"
   ]
  },
  {
   "cell_type": "code",
   "execution_count": 169,
   "metadata": {},
   "outputs": [
    {
     "name": "stdout",
     "output_type": "stream",
     "text": [
      "['description_length', 'funded_amount']\n"
     ]
    }
   ],
   "source": [
    "model = Lasso()\n",
    "sfm = SelectFromModel(model)\n",
    "sfm.fit(X, yb)\n",
    "print(list(X.iloc[:, sfm.get_support(indices=True)]))"
   ]
  },
  {
   "cell_type": "code",
   "execution_count": 170,
   "metadata": {},
   "outputs": [
    {
     "name": "stdout",
     "output_type": "stream",
     "text": [
      "['language_english', 'tags_exist', 'partner_charges_fees_and_interest', 'num_borrowers_female_pct', 'sector_name_Agriculture', 'sector_name_Arts', 'sector_name_Clothing', 'sector_name_Education', 'sector_name_Entertainment', 'sector_name_Food', 'sector_name_Health', 'sector_name_Housing', 'sector_name_Manufacturing', 'sector_name_Personal Use', 'sector_name_Retail', 'sector_name_Transportation', 'repayment_interval_irregular']\n"
     ]
    }
   ],
   "source": [
    "model = Ridge()\n",
    "sfm = SelectFromModel(model)\n",
    "sfm.fit(X, y)\n",
    "print(list(X.iloc[:, sfm.get_support(indices=True)]))"
   ]
  },
  {
   "cell_type": "code",
   "execution_count": 171,
   "metadata": {},
   "outputs": [
    {
     "name": "stdout",
     "output_type": "stream",
     "text": [
      "['language_english', 'tags_exist', 'partner_charges_fees_and_interest', 'num_borrowers_female_pct', 'sector_name_Agriculture', 'sector_name_Arts', 'sector_name_Clothing', 'sector_name_Education', 'sector_name_Entertainment', 'sector_name_Food', 'sector_name_Health', 'sector_name_Housing', 'sector_name_Manufacturing', 'sector_name_Personal Use', 'sector_name_Retail', 'sector_name_Transportation', 'repayment_interval_irregular']\n"
     ]
    }
   ],
   "source": [
    "model = Ridge()\n",
    "sfm = SelectFromModel(model)\n",
    "sfm.fit(X, yb)\n",
    "print(list(X.iloc[:, sfm.get_support(indices=True)]))"
   ]
  },
  {
   "cell_type": "code",
   "execution_count": 172,
   "metadata": {},
   "outputs": [
    {
     "name": "stdout",
     "output_type": "stream",
     "text": [
      "['tags_exist', 'partner_loans_at_risk_rate', 'num_borrowers_female']\n"
     ]
    }
   ],
   "source": [
    "model = ElasticNet()\n",
    "sfm = SelectFromModel(model)\n",
    "sfm.fit(X, y)\n",
    "print(list(X.iloc[:, sfm.get_support(indices=True)]))"
   ]
  },
  {
   "cell_type": "code",
   "execution_count": 173,
   "metadata": {},
   "outputs": [
    {
     "name": "stdout",
     "output_type": "stream",
     "text": [
      "['description_length', 'funded_amount', 'loan_use_length', 'partner_loans_at_risk_rate']\n"
     ]
    }
   ],
   "source": [
    "model = ElasticNet()\n",
    "sfm = SelectFromModel(model)\n",
    "sfm.fit(X, yb)\n",
    "print(list(X.iloc[:, sfm.get_support(indices=True)]))"
   ]
  },
  {
   "cell_type": "code",
   "execution_count": 175,
   "metadata": {},
   "outputs": [
    {
     "data": {
      "text/plain": [
       "<matplotlib.axes._subplots.AxesSubplot at 0x1bb9b86a0>"
      ]
     },
     "execution_count": 175,
     "metadata": {},
     "output_type": "execute_result"
    },
    {
     "data": {
      "image/png": "[encoded data removed]",
      "text/plain": [
       "<Figure size 432x288 with 2 Axes>"
      ]
     },
     "metadata": {},
     "output_type": "display_data"
    }
   ],
   "source": [
    "corr = cleaneduploans[['posted_to_raised_days','posted_to_raised_bins', 'num_borrowers_female','description_length', 'funded_amount', 'loan_use_length','language_english', 'tags_exist', 'partner_charges_fees_and_interest', 'num_borrowers_female_pct', 'sector_name_Agriculture', 'sector_name_Arts', 'sector_name_Clothing', 'sector_name_Education', 'sector_name_Entertainment', 'sector_name_Food', 'sector_name_Health', 'sector_name_Housing', 'sector_name_Manufacturing', 'sector_name_Personal Use', 'sector_name_Retail', 'sector_name_Transportation', 'repayment_interval_irregular', 'partner_loans_at_risk_rate']].corr(method='pearson')\n",
    "sns.heatmap(corr, annot = True, fmt =\".1g\", annot_kws={\"size\": 5}, cmap = \"Blues\")"
   ]
  },
  {
   "cell_type": "code",
   "execution_count": 125,
   "metadata": {},
   "outputs": [],
   "source": [
    "pca = PCA(n_components=2)\n",
    "pca_f = pca.fit(X).transform(X)"
   ]
  },
  {
   "cell_type": "code",
   "execution_count": 114,
   "metadata": {},
   "outputs": [
    {
     "data": {
      "text/plain": [
       "<seaborn.axisgrid.JointGrid at 0x11ceabc50>"
      ]
     },
     "execution_count": 114,
     "metadata": {},
     "output_type": "execute_result"
    },
    {
     "data": {
      "image/png": "[encoded data removed]",
      "text/plain": [
       "<Figure size 432x432 with 3 Axes>"
      ]
     },
     "metadata": {},
     "output_type": "display_data"
    }
   ],
   "source": [
    "sns.jointplot(pca_f[:,0], pca_f[:,1])"
   ]
  },
  {
   "cell_type": "code",
   "execution_count": 123,
   "metadata": {},
   "outputs": [],
   "source": [
    "lda = LDA(n_components=2)\n",
    "lda_f = lda.fit(X, y).transform(X)"
   ]
  },
  {
   "cell_type": "code",
   "execution_count": 124,
   "metadata": {},
   "outputs": [
    {
     "data": {
      "text/plain": [
       "<seaborn.axisgrid.JointGrid at 0x18e387710>"
      ]
     },
     "execution_count": 124,
     "metadata": {},
     "output_type": "execute_result"
    },
    {
     "data": {
      "image/png": "[encoded data removed]",
      "text/plain": [
       "<Figure size 432x432 with 3 Axes>"
      ]
     },
     "metadata": {},
     "output_type": "display_data"
    }
   ],
   "source": [
    "sns.jointplot(lda_f[:,0], lda_f[:,1])"
   ]
  },
  {
   "cell_type": "code",
   "execution_count": 121,
   "metadata": {},
   "outputs": [],
   "source": [
    "lda = LDA(n_components=2)\n",
    "lda_f = lda.fit(X, yb).transform(X)"
   ]
  },
  {
   "cell_type": "code",
   "execution_count": 122,
   "metadata": {},
   "outputs": [
    {
     "data": {
      "text/plain": [
       "<seaborn.axisgrid.JointGrid at 0x1afb38cf8>"
      ]
     },
     "execution_count": 122,
     "metadata": {},
     "output_type": "execute_result"
    },
    {
     "data": {
      "image/png": "[encoded data removed]",
      "text/plain": [
       "<Figure size 432x432 with 3 Axes>"
      ]
     },
     "metadata": {},
     "output_type": "display_data"
    }
   ],
   "source": [
    "sns.jointplot(lda_f[:,0], lda_f[:,1])"
   ]
  },
  {
   "cell_type": "code",
   "execution_count": null,
   "metadata": {},
   "outputs": [],
   "source": []
  }
 ],
 "metadata": {
  "kernelspec": {
   "display_name": "Python 3",
   "language": "python",
   "name": "python3"
  },
  "language_info": {
   "codemirror_mode": {
    "name": "ipython",
    "version": 3
   },
   "file_extension": ".py",
   "mimetype": "text/x-python",
   "name": "python",
   "nbconvert_exporter": "python",
   "pygments_lexer": "ipython3",
   "version": "3.6.5"
  }
 },
 "nbformat": 4,
 "nbformat_minor": 2
}
